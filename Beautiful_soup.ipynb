{
 "cells": [
  {
   "cell_type": "code",
   "execution_count": 34,
   "id": "ec3610a1-b35b-4624-b426-31ffc3355c63",
   "metadata": {},
   "outputs": [],
   "source": [
    "from bs4 import BeautifulSoup\n",
    "import requests"
   ]
  },
  {
   "cell_type": "code",
   "execution_count": 37,
   "id": "ade96e71-e061-4b33-beab-42e357cdc9ba",
   "metadata": {
    "editable": true,
    "slideshow": {
     "slide_type": ""
    },
    "tags": []
   },
   "outputs": [
    {
     "name": "stdout",
     "output_type": "stream",
     "text": [
      "Page 1 loaded\n",
      "Page 2 loaded\n",
      "Page 3 loaded\n",
      "Page 4 loaded\n",
      "Page 5 loaded\n",
      "Page 6 loaded\n",
      "Page 7 loaded\n",
      "Page 8 loaded\n",
      "Page 9 loaded\n",
      "Page 10 loaded\n",
      "Page 11 loaded\n",
      "Page 12 loaded\n",
      "Page 13 loaded\n",
      "Page 14 loaded\n",
      "Page 15 loaded\n",
      "Page 16 loaded\n",
      "Page 17 loaded\n",
      "Page 18 loaded\n",
      "Page 19 loaded\n",
      "Page 20 loaded\n",
      "Page 21 loaded\n",
      "Page 22 loaded\n",
      "Page 23 loaded\n",
      "Page 24 loaded\n",
      "Page 25 loaded\n",
      "Page 26 loaded\n",
      "Page 27 loaded\n",
      "Page 28 loaded\n",
      "Page 29 loaded\n",
      "Page 30 loaded\n",
      "Page 31 loaded\n",
      "Page 32 loaded\n",
      "Page 33 loaded\n",
      "Page 34 loaded\n",
      "Page 35 loaded\n",
      "Page 36 loaded\n",
      "Page 37 loaded\n",
      "Page 38 loaded\n",
      "Page 39 loaded\n",
      "Page 40 loaded\n",
      "Page 41 loaded\n",
      "Page 42 loaded\n",
      "Page 43 loaded\n",
      "Page 44 loaded\n",
      "Page 45 loaded\n",
      "Page 46 loaded\n",
      "Page 47 loaded\n",
      "Page 48 loaded\n",
      "Page 49 loaded\n",
      "Page 50 loaded\n"
     ]
    }
   ],
   "source": [
    "for i in range(1, 51):\n",
    "    with open(f\"Html_data/page{i}.html\", \"r\", encoding=\"utf-8\") as f:\n",
    "        content = f.read()\n",
    "        # You can now parse `content` using BeautifulSoup or process it further\n",
    "        print(f\"Page {i} loaded\")\n"
   ]
  },
  {
   "cell_type": "code",
   "execution_count": 38,
   "id": "4c715a83-1765-4eb3-b340-d3a2c728977f",
   "metadata": {},
   "outputs": [],
   "source": [
    "soup=BeautifulSoup(content,\"html.parser\")"
   ]
  },
  {
   "cell_type": "code",
   "execution_count": 39,
   "id": "834d7e7c-e5be-4af4-9d06-abaeb6313135",
   "metadata": {},
   "outputs": [],
   "source": [
    "h3s=soup.find_all(\"h3\")"
   ]
  },
  {
   "cell_type": "code",
   "execution_count": 40,
   "id": "889f2591-0744-40e4-b15e-a1f0d399516b",
   "metadata": {},
   "outputs": [],
   "source": [
    "articals=soup.select(\"article.product_pod\")"
   ]
  },
  {
   "cell_type": "code",
   "execution_count": 41,
   "id": "463e43fb-a88e-47d0-ad8b-9200c1e93756",
   "metadata": {},
   "outputs": [],
   "source": [
    "items=[]\n",
    "for artical in articals:\n",
    "   title=artical.find(\"h3\").find(\"a\")[\"title\"]\n",
    "   # print(title)\n",
    "   price=artical.select_one(\"p.price_color\").text.split(\"£\")[1]\n",
    "   # print(price)\n",
    "   items.append([title,price])"
   ]
  },
  {
   "cell_type": "code",
   "execution_count": 42,
   "id": "474725e9-1847-432a-b845-ce931aedfa51",
   "metadata": {},
   "outputs": [
    {
     "data": {
      "text/plain": [
       "[['Frankenstein', '38.00'],\n",
       " ['Forever Rockers (The Rocker #12)', '28.80'],\n",
       " ['Fighting Fate (Fighting #6)', '39.24'],\n",
       " ['Emma', '32.93'],\n",
       " ['Eat, Pray, Love', '51.32'],\n",
       " ['Deep Under (Walker Security #1)', '47.09'],\n",
       " [\"Choosing Our Religion: The Spiritual Lives of America's Nones\", '28.42'],\n",
       " ['Charlie and the Chocolate Factory (Charlie Bucket #1)', '22.85'],\n",
       " [\"Charity's Cross (Charles Towne Belles #4)\", '41.24'],\n",
       " ['Bright Lines', '39.07'],\n",
       " [\"Bridget Jones's Diary (Bridget Jones #1)\", '29.82'],\n",
       " ['Bounty (Colorado Mountain #7)', '37.26'],\n",
       " ['Blood Defense (Samantha Brinkman #1)', '20.30'],\n",
       " ['Bleach, Vol. 1: Strawberry and the Soul Reapers (Bleach #1)', '34.65'],\n",
       " ['Beyond Good and Evil', '43.38'],\n",
       " [\"Alice in Wonderland (Alice's Adventures in Wonderland #1)\", '55.53'],\n",
       " ['Ajin: Demi-Human, Volume 1 (Ajin: Demi-Human #1)', '57.06'],\n",
       " [\"A Spy's Devotion (The Regency Spies of London #1)\", '16.97'],\n",
       " [\"1st to Die (Women's Murder Club #1)\", '53.98'],\n",
       " ['1,000 Places to See Before You Die', '26.08']]"
      ]
     },
     "execution_count": 42,
     "metadata": {},
     "output_type": "execute_result"
    }
   ],
   "source": [
    " items"
   ]
  },
  {
   "cell_type": "code",
   "execution_count": 43,
   "id": "c946947e-ae1b-4b1a-9dbf-8762ebb078d3",
   "metadata": {},
   "outputs": [],
   "source": [
    "import pandas as pd"
   ]
  },
  {
   "cell_type": "code",
   "execution_count": 44,
   "id": "d9d59a8c-56fe-4a48-8d30-c625767e5471",
   "metadata": {},
   "outputs": [],
   "source": [
    "df=pd.DataFrame(items)"
   ]
  },
  {
   "cell_type": "code",
   "execution_count": 45,
   "id": "fc91f2fb-bfd5-4a80-b7f3-a58961467aee",
   "metadata": {},
   "outputs": [
    {
     "data": {
      "text/html": [
       "<div>\n",
       "<style scoped>\n",
       "    .dataframe tbody tr th:only-of-type {\n",
       "        vertical-align: middle;\n",
       "    }\n",
       "\n",
       "    .dataframe tbody tr th {\n",
       "        vertical-align: top;\n",
       "    }\n",
       "\n",
       "    .dataframe thead th {\n",
       "        text-align: right;\n",
       "    }\n",
       "</style>\n",
       "<table border=\"1\" class=\"dataframe\">\n",
       "  <thead>\n",
       "    <tr style=\"text-align: right;\">\n",
       "      <th></th>\n",
       "      <th>0</th>\n",
       "      <th>1</th>\n",
       "    </tr>\n",
       "  </thead>\n",
       "  <tbody>\n",
       "    <tr>\n",
       "      <th>0</th>\n",
       "      <td>Frankenstein</td>\n",
       "      <td>38.00</td>\n",
       "    </tr>\n",
       "    <tr>\n",
       "      <th>1</th>\n",
       "      <td>Forever Rockers (The Rocker #12)</td>\n",
       "      <td>28.80</td>\n",
       "    </tr>\n",
       "    <tr>\n",
       "      <th>2</th>\n",
       "      <td>Fighting Fate (Fighting #6)</td>\n",
       "      <td>39.24</td>\n",
       "    </tr>\n",
       "    <tr>\n",
       "      <th>3</th>\n",
       "      <td>Emma</td>\n",
       "      <td>32.93</td>\n",
       "    </tr>\n",
       "    <tr>\n",
       "      <th>4</th>\n",
       "      <td>Eat, Pray, Love</td>\n",
       "      <td>51.32</td>\n",
       "    </tr>\n",
       "    <tr>\n",
       "      <th>5</th>\n",
       "      <td>Deep Under (Walker Security #1)</td>\n",
       "      <td>47.09</td>\n",
       "    </tr>\n",
       "    <tr>\n",
       "      <th>6</th>\n",
       "      <td>Choosing Our Religion: The Spiritual Lives of ...</td>\n",
       "      <td>28.42</td>\n",
       "    </tr>\n",
       "    <tr>\n",
       "      <th>7</th>\n",
       "      <td>Charlie and the Chocolate Factory (Charlie Buc...</td>\n",
       "      <td>22.85</td>\n",
       "    </tr>\n",
       "    <tr>\n",
       "      <th>8</th>\n",
       "      <td>Charity's Cross (Charles Towne Belles #4)</td>\n",
       "      <td>41.24</td>\n",
       "    </tr>\n",
       "    <tr>\n",
       "      <th>9</th>\n",
       "      <td>Bright Lines</td>\n",
       "      <td>39.07</td>\n",
       "    </tr>\n",
       "    <tr>\n",
       "      <th>10</th>\n",
       "      <td>Bridget Jones's Diary (Bridget Jones #1)</td>\n",
       "      <td>29.82</td>\n",
       "    </tr>\n",
       "    <tr>\n",
       "      <th>11</th>\n",
       "      <td>Bounty (Colorado Mountain #7)</td>\n",
       "      <td>37.26</td>\n",
       "    </tr>\n",
       "    <tr>\n",
       "      <th>12</th>\n",
       "      <td>Blood Defense (Samantha Brinkman #1)</td>\n",
       "      <td>20.30</td>\n",
       "    </tr>\n",
       "    <tr>\n",
       "      <th>13</th>\n",
       "      <td>Bleach, Vol. 1: Strawberry and the Soul Reaper...</td>\n",
       "      <td>34.65</td>\n",
       "    </tr>\n",
       "    <tr>\n",
       "      <th>14</th>\n",
       "      <td>Beyond Good and Evil</td>\n",
       "      <td>43.38</td>\n",
       "    </tr>\n",
       "    <tr>\n",
       "      <th>15</th>\n",
       "      <td>Alice in Wonderland (Alice's Adventures in Won...</td>\n",
       "      <td>55.53</td>\n",
       "    </tr>\n",
       "    <tr>\n",
       "      <th>16</th>\n",
       "      <td>Ajin: Demi-Human, Volume 1 (Ajin: Demi-Human #1)</td>\n",
       "      <td>57.06</td>\n",
       "    </tr>\n",
       "    <tr>\n",
       "      <th>17</th>\n",
       "      <td>A Spy's Devotion (The Regency Spies of London #1)</td>\n",
       "      <td>16.97</td>\n",
       "    </tr>\n",
       "    <tr>\n",
       "      <th>18</th>\n",
       "      <td>1st to Die (Women's Murder Club #1)</td>\n",
       "      <td>53.98</td>\n",
       "    </tr>\n",
       "    <tr>\n",
       "      <th>19</th>\n",
       "      <td>1,000 Places to See Before You Die</td>\n",
       "      <td>26.08</td>\n",
       "    </tr>\n",
       "  </tbody>\n",
       "</table>\n",
       "</div>"
      ],
      "text/plain": [
       "                                                    0      1\n",
       "0                                        Frankenstein  38.00\n",
       "1                    Forever Rockers (The Rocker #12)  28.80\n",
       "2                         Fighting Fate (Fighting #6)  39.24\n",
       "3                                                Emma  32.93\n",
       "4                                     Eat, Pray, Love  51.32\n",
       "5                     Deep Under (Walker Security #1)  47.09\n",
       "6   Choosing Our Religion: The Spiritual Lives of ...  28.42\n",
       "7   Charlie and the Chocolate Factory (Charlie Buc...  22.85\n",
       "8           Charity's Cross (Charles Towne Belles #4)  41.24\n",
       "9                                        Bright Lines  39.07\n",
       "10           Bridget Jones's Diary (Bridget Jones #1)  29.82\n",
       "11                      Bounty (Colorado Mountain #7)  37.26\n",
       "12               Blood Defense (Samantha Brinkman #1)  20.30\n",
       "13  Bleach, Vol. 1: Strawberry and the Soul Reaper...  34.65\n",
       "14                               Beyond Good and Evil  43.38\n",
       "15  Alice in Wonderland (Alice's Adventures in Won...  55.53\n",
       "16   Ajin: Demi-Human, Volume 1 (Ajin: Demi-Human #1)  57.06\n",
       "17  A Spy's Devotion (The Regency Spies of London #1)  16.97\n",
       "18                1st to Die (Women's Murder Club #1)  53.98\n",
       "19                 1,000 Places to See Before You Die  26.08"
      ]
     },
     "execution_count": 45,
     "metadata": {},
     "output_type": "execute_result"
    }
   ],
   "source": [
    "df"
   ]
  },
  {
   "cell_type": "code",
   "execution_count": 74,
   "id": "df8df242-bd0a-411a-bce9-e16cc463471b",
   "metadata": {
    "editable": true,
    "slideshow": {
     "slide_type": ""
    },
    "tags": []
   },
   "outputs": [],
   "source": [
    "from bs4 import BeautifulSoup\n",
    "\n",
    "items = []\n",
    "\n",
    "for i in range(1, 51):\n",
    "    with open(f\"Html_data/page{i}.html\", \"r\", encoding=\"utf-8\") as f:\n",
    "        content = f.read()\n",
    "        # print(f\"Page {i} loaded\")\n",
    "\n",
    "        soup = BeautifulSoup(content, \"html.parser\")\n",
    "        articles = soup.select(\"article.product_pod\")\n",
    "\n",
    "        for article in articles:\n",
    "            title = article.find(\"h3\").find(\"a\")[\"title\"]\n",
    "            price = article.select_one(\"p.price_color\").text.split(\"£\")[1]\n",
    "            rating=article.select_one(\"p.star-rating\")\n",
    "            classes=rating[\"class\"][1]\n",
    "            items.append([title, price,classes])\n",
    "\n",
    "# Optional: print all extracted items\n",
    "# for item in items:\n",
    "#     print(f\"Title: {item[0]}, Price: £{item[1]}\")\n"
   ]
  },
  {
   "cell_type": "code",
   "execution_count": 75,
   "id": "7a733bc0-0251-4518-927f-29c15e4e890e",
   "metadata": {},
   "outputs": [],
   "source": [
    "data=pd.DataFrame(items, columns=[\"Bookname\",\"Price\",\"Rating\"])"
   ]
  },
  {
   "cell_type": "code",
   "execution_count": 76,
   "id": "09c7d1c6-3a75-4d9c-b6e1-16a2530a66dd",
   "metadata": {},
   "outputs": [
    {
     "data": {
      "text/html": [
       "<div>\n",
       "<style scoped>\n",
       "    .dataframe tbody tr th:only-of-type {\n",
       "        vertical-align: middle;\n",
       "    }\n",
       "\n",
       "    .dataframe tbody tr th {\n",
       "        vertical-align: top;\n",
       "    }\n",
       "\n",
       "    .dataframe thead th {\n",
       "        text-align: right;\n",
       "    }\n",
       "</style>\n",
       "<table border=\"1\" class=\"dataframe\">\n",
       "  <thead>\n",
       "    <tr style=\"text-align: right;\">\n",
       "      <th></th>\n",
       "      <th>Bookname</th>\n",
       "      <th>Price</th>\n",
       "      <th>Rating</th>\n",
       "    </tr>\n",
       "  </thead>\n",
       "  <tbody>\n",
       "    <tr>\n",
       "      <th>0</th>\n",
       "      <td>A Light in the Attic</td>\n",
       "      <td>51.77</td>\n",
       "      <td>Three</td>\n",
       "    </tr>\n",
       "    <tr>\n",
       "      <th>1</th>\n",
       "      <td>Tipping the Velvet</td>\n",
       "      <td>53.74</td>\n",
       "      <td>One</td>\n",
       "    </tr>\n",
       "    <tr>\n",
       "      <th>2</th>\n",
       "      <td>Soumission</td>\n",
       "      <td>50.10</td>\n",
       "      <td>One</td>\n",
       "    </tr>\n",
       "    <tr>\n",
       "      <th>3</th>\n",
       "      <td>Sharp Objects</td>\n",
       "      <td>47.82</td>\n",
       "      <td>Four</td>\n",
       "    </tr>\n",
       "    <tr>\n",
       "      <th>4</th>\n",
       "      <td>Sapiens: A Brief History of Humankind</td>\n",
       "      <td>54.23</td>\n",
       "      <td>Five</td>\n",
       "    </tr>\n",
       "    <tr>\n",
       "      <th>...</th>\n",
       "      <td>...</td>\n",
       "      <td>...</td>\n",
       "      <td>...</td>\n",
       "    </tr>\n",
       "    <tr>\n",
       "      <th>995</th>\n",
       "      <td>Alice in Wonderland (Alice's Adventures in Won...</td>\n",
       "      <td>55.53</td>\n",
       "      <td>One</td>\n",
       "    </tr>\n",
       "    <tr>\n",
       "      <th>996</th>\n",
       "      <td>Ajin: Demi-Human, Volume 1 (Ajin: Demi-Human #1)</td>\n",
       "      <td>57.06</td>\n",
       "      <td>Four</td>\n",
       "    </tr>\n",
       "    <tr>\n",
       "      <th>997</th>\n",
       "      <td>A Spy's Devotion (The Regency Spies of London #1)</td>\n",
       "      <td>16.97</td>\n",
       "      <td>Five</td>\n",
       "    </tr>\n",
       "    <tr>\n",
       "      <th>998</th>\n",
       "      <td>1st to Die (Women's Murder Club #1)</td>\n",
       "      <td>53.98</td>\n",
       "      <td>One</td>\n",
       "    </tr>\n",
       "    <tr>\n",
       "      <th>999</th>\n",
       "      <td>1,000 Places to See Before You Die</td>\n",
       "      <td>26.08</td>\n",
       "      <td>Five</td>\n",
       "    </tr>\n",
       "  </tbody>\n",
       "</table>\n",
       "<p>1000 rows × 3 columns</p>\n",
       "</div>"
      ],
      "text/plain": [
       "                                              Bookname  Price Rating\n",
       "0                                 A Light in the Attic  51.77  Three\n",
       "1                                   Tipping the Velvet  53.74    One\n",
       "2                                           Soumission  50.10    One\n",
       "3                                        Sharp Objects  47.82   Four\n",
       "4                Sapiens: A Brief History of Humankind  54.23   Five\n",
       "..                                                 ...    ...    ...\n",
       "995  Alice in Wonderland (Alice's Adventures in Won...  55.53    One\n",
       "996   Ajin: Demi-Human, Volume 1 (Ajin: Demi-Human #1)  57.06   Four\n",
       "997  A Spy's Devotion (The Regency Spies of London #1)  16.97   Five\n",
       "998                1st to Die (Women's Murder Club #1)  53.98    One\n",
       "999                 1,000 Places to See Before You Die  26.08   Five\n",
       "\n",
       "[1000 rows x 3 columns]"
      ]
     },
     "execution_count": 76,
     "metadata": {},
     "output_type": "execute_result"
    }
   ],
   "source": [
    "data"
   ]
  },
  {
   "cell_type": "code",
   "execution_count": 78,
   "id": "0812bbc0-1736-49e3-a8ce-d86bcb60d238",
   "metadata": {},
   "outputs": [],
   "source": [
    "data.to_csv(\"data.csv\",index=False)"
   ]
  },
  {
   "cell_type": "code",
   "execution_count": null,
   "id": "1414343d-65e4-43e4-a397-b1c82ded9e6f",
   "metadata": {
    "editable": true,
    "slideshow": {
     "slide_type": ""
    },
    "tags": []
   },
   "outputs": [],
   "source": []
  }
 ],
 "metadata": {
  "kernelspec": {
   "display_name": "Python [conda env:base] *",
   "language": "python",
   "name": "conda-base-py"
  },
  "language_info": {
   "codemirror_mode": {
    "name": "ipython",
    "version": 3
   },
   "file_extension": ".py",
   "mimetype": "text/x-python",
   "name": "python",
   "nbconvert_exporter": "python",
   "pygments_lexer": "ipython3",
   "version": "3.12.7"
  }
 },
 "nbformat": 4,
 "nbformat_minor": 5
}
