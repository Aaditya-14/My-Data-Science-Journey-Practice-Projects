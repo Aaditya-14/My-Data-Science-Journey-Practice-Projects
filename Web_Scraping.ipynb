{
 "cells": [
  {
   "cell_type": "code",
   "execution_count": 1,
   "id": "35209594-a43f-46a6-859e-0558c367c7fd",
   "metadata": {},
   "outputs": [],
   "source": [
    "import requests"
   ]
  },
  {
   "cell_type": "code",
   "execution_count": 15,
   "id": "fc824a05-7a7f-490a-b4a3-e037f1890d66",
   "metadata": {
    "editable": true,
    "slideshow": {
     "slide_type": ""
    },
    "tags": []
   },
   "outputs": [
    {
     "name": "stdout",
     "output_type": "stream",
     "text": [
      "✅ Page 1 saved successfully\n",
      "✅ Page 2 saved successfully\n",
      "✅ Page 3 saved successfully\n",
      "✅ Page 4 saved successfully\n",
      "✅ Page 5 saved successfully\n",
      "✅ Page 6 saved successfully\n",
      "✅ Page 7 saved successfully\n",
      "✅ Page 8 saved successfully\n",
      "✅ Page 9 saved successfully\n",
      "✅ Page 10 saved successfully\n",
      "✅ Page 11 saved successfully\n",
      "✅ Page 12 saved successfully\n",
      "✅ Page 13 saved successfully\n",
      "✅ Page 14 saved successfully\n",
      "✅ Page 15 saved successfully\n",
      "✅ Page 16 saved successfully\n",
      "✅ Page 17 saved successfully\n",
      "✅ Page 18 saved successfully\n",
      "✅ Page 19 saved successfully\n",
      "✅ Page 20 saved successfully\n",
      "✅ Page 21 saved successfully\n",
      "✅ Page 22 saved successfully\n",
      "✅ Page 23 saved successfully\n",
      "✅ Page 24 saved successfully\n",
      "✅ Page 25 saved successfully\n",
      "✅ Page 26 saved successfully\n",
      "✅ Page 27 saved successfully\n",
      "✅ Page 28 saved successfully\n",
      "✅ Page 29 saved successfully\n",
      "✅ Page 30 saved successfully\n",
      "✅ Page 31 saved successfully\n",
      "✅ Page 32 saved successfully\n",
      "✅ Page 33 saved successfully\n",
      "✅ Page 34 saved successfully\n",
      "✅ Page 35 saved successfully\n",
      "✅ Page 36 saved successfully\n",
      "✅ Page 37 saved successfully\n",
      "✅ Page 38 saved successfully\n",
      "✅ Page 39 saved successfully\n",
      "✅ Page 40 saved successfully\n",
      "✅ Page 41 saved successfully\n",
      "✅ Page 42 saved successfully\n",
      "✅ Page 43 saved successfully\n",
      "✅ Page 44 saved successfully\n",
      "✅ Page 45 saved successfully\n",
      "✅ Page 46 saved successfully\n",
      "✅ Page 47 saved successfully\n",
      "✅ Page 48 saved successfully\n",
      "✅ Page 49 saved successfully\n",
      "✅ Page 50 saved successfully\n"
     ]
    }
   ],
   "source": [
    "import requests\n",
    "import os\n",
    "import time\n",
    "\n",
    "# Create the directory if it doesn't exist\n",
    "os.makedirs(\"Html_data\", exist_ok=True)\n",
    "\n",
    "# Loop through all 50 pages\n",
    "for i in range(1, 51):\n",
    "    url = f\"https://books.toscrape.com/catalogue/page-{i}.html\"\n",
    "    try:\n",
    "        response = requests.get(url)\n",
    "        response.raise_for_status()  # Raise error for 4xx/5xx status codes\n",
    "\n",
    "        with open(f\"Html_data/page{i}.html\", \"w\", encoding=\"utf-8\") as f:\n",
    "            f.write(response.text)\n",
    "            print(f\"✅ Page {i} saved successfully\")\n",
    "\n",
    "    except requests.RequestException as e:\n",
    "        print(f\"❌ Failed to fetch Page {i}: {e}\")\n",
    "\n",
    "    time.sleep(1)  # Polite delay to avoid hammering the server\n",
    "\n"
   ]
  },
  {
   "cell_type": "code",
   "execution_count": null,
   "id": "4507bdf1-c7e4-48a7-a4a8-491cb6c9ab4b",
   "metadata": {
    "editable": true,
    "slideshow": {
     "slide_type": ""
    },
    "tags": []
   },
   "outputs": [],
   "source": []
  }
 ],
 "metadata": {
  "kernelspec": {
   "display_name": "Python [conda env:base] *",
   "language": "python",
   "name": "conda-base-py"
  },
  "language_info": {
   "codemirror_mode": {
    "name": "ipython",
    "version": 3
   },
   "file_extension": ".py",
   "mimetype": "text/x-python",
   "name": "python",
   "nbconvert_exporter": "python",
   "pygments_lexer": "ipython3",
   "version": "3.12.7"
  }
 },
 "nbformat": 4,
 "nbformat_minor": 5
}
