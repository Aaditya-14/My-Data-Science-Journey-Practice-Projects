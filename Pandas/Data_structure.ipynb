{
 "cells": [
  {
   "cell_type": "markdown",
   "id": "7bee847a-2213-428c-8746-e5c0728719ea",
   "metadata": {},
   "source": [
    "type of data structure\n",
    "Series: 1d array with lable\n",
    "DataFrame: 2d array with rows and columnmm"
   ]
  },
  {
   "cell_type": "code",
   "execution_count": 14,
   "id": "876d81c2-87f2-4c0a-bf9a-29710979c7c8",
   "metadata": {},
   "outputs": [],
   "source": [
    "import pandas as pd"
   ]
  },
  {
   "cell_type": "code",
   "execution_count": 15,
   "id": "7fe5d539-dcfe-4d03-b50b-1bab8e232345",
   "metadata": {},
   "outputs": [],
   "source": [
    "# to create series\n",
    "pd=pd.Series([1,2,3,4,5,6,7,8])  #here we create series"
   ]
  },
  {
   "cell_type": "code",
   "execution_count": 16,
   "id": "6345ce0c-817b-4c81-9cb7-ed961c66e313",
   "metadata": {},
   "outputs": [
    {
     "data": {
      "text/plain": [
       "0    1\n",
       "1    2\n",
       "2    3\n",
       "3    4\n",
       "4    5\n",
       "5    6\n",
       "6    7\n",
       "7    8\n",
       "dtype: int64"
      ]
     },
     "execution_count": 16,
     "metadata": {},
     "output_type": "execute_result"
    }
   ],
   "source": [
    "pd"
   ]
  },
  {
   "cell_type": "code",
   "execution_count": 25,
   "id": "c15e85e4-9c88-4364-b797-a4c54b905ca9",
   "metadata": {},
   "outputs": [
    {
     "data": {
      "text/plain": [
       "pandas.core.series.Series"
      ]
     },
     "execution_count": 25,
     "metadata": {},
     "output_type": "execute_result"
    }
   ],
   "source": [
    "type(pd) # to check type"
   ]
  },
  {
   "cell_type": "code",
   "execution_count": 34,
   "id": "0a3c8357-013f-4445-a183-066182d37381",
   "metadata": {},
   "outputs": [],
   "source": [
    "import pandas as pd\n",
    "pd = pd.Series([1, 2, 3, 4, 5, 6, 7, 8], \n",
    "                      index=['ram', 'hari', 'sita', 'gita', 'rita', 'nita', 'babita', 'arpita']) #here we add index\n"
   ]
  },
  {
   "cell_type": "code",
   "execution_count": 35,
   "id": "a91d3e73-56c8-4794-b427-ab9d19a14502",
   "metadata": {},
   "outputs": [
    {
     "data": {
      "text/plain": [
       "ram       1\n",
       "hari      2\n",
       "sita      3\n",
       "gita      4\n",
       "rita      5\n",
       "nita      6\n",
       "babita    7\n",
       "arpita    8\n",
       "dtype: int64"
      ]
     },
     "execution_count": 35,
     "metadata": {},
     "output_type": "execute_result"
    }
   ],
   "source": [
    "pd"
   ]
  },
  {
   "cell_type": "code",
   "execution_count": 38,
   "id": "8f34a51a-4358-48f5-875e-d7da0439d870",
   "metadata": {},
   "outputs": [
    {
     "data": {
      "text/plain": [
       "1"
      ]
     },
     "execution_count": 38,
     "metadata": {},
     "output_type": "execute_result"
    }
   ],
   "source": [
    "pd[\"ram\"] # we can access the data like this too"
   ]
  },
  {
   "cell_type": "code",
   "execution_count": 39,
   "id": "422f1768-3610-427f-80af-edf25f9fd10e",
   "metadata": {},
   "outputs": [
    {
     "data": {
      "text/plain": [
       "4"
      ]
     },
     "execution_count": 39,
     "metadata": {},
     "output_type": "execute_result"
    }
   ],
   "source": [
    "pd[\"gita\"]"
   ]
  },
  {
   "cell_type": "markdown",
   "id": "2a6e18c9-3646-4a26-b262-75757008f5fd",
   "metadata": {},
   "source": [
    "Data  Frame"
   ]
  },
  {
   "cell_type": "code",
   "execution_count": 45,
   "id": "7d1a62dc-4685-4df2-ae0f-78aec557abe8",
   "metadata": {},
   "outputs": [],
   "source": [
    "data = {\n",
    "    'name': ['ram', 'hari', 'sita'],\n",
    "    'age': [1, 2, 3],\n",
    "    'location': ['Thimi', 'Bhaktapur', 'koteshawor']\n",
    "}\n"
   ]
  },
  {
   "cell_type": "code",
   "execution_count": 53,
   "id": "71ef929e-c026-416b-be44-95ca14f1a730",
   "metadata": {},
   "outputs": [],
   "source": [
    "import pandas as pd\n",
    "pd=pd.DataFrame(data) #here we add data and create dataframe so that the data will be easy to read"
   ]
  },
  {
   "cell_type": "code",
   "execution_count": 54,
   "id": "8322368f-32e2-48c5-b924-26e1f19e6fb1",
   "metadata": {},
   "outputs": [
    {
     "data": {
      "text/html": [
       "<div>\n",
       "<style scoped>\n",
       "    .dataframe tbody tr th:only-of-type {\n",
       "        vertical-align: middle;\n",
       "    }\n",
       "\n",
       "    .dataframe tbody tr th {\n",
       "        vertical-align: top;\n",
       "    }\n",
       "\n",
       "    .dataframe thead th {\n",
       "        text-align: right;\n",
       "    }\n",
       "</style>\n",
       "<table border=\"1\" class=\"dataframe\">\n",
       "  <thead>\n",
       "    <tr style=\"text-align: right;\">\n",
       "      <th></th>\n",
       "      <th>name</th>\n",
       "      <th>age</th>\n",
       "      <th>location</th>\n",
       "    </tr>\n",
       "  </thead>\n",
       "  <tbody>\n",
       "    <tr>\n",
       "      <th>0</th>\n",
       "      <td>ram</td>\n",
       "      <td>1</td>\n",
       "      <td>Thimi</td>\n",
       "    </tr>\n",
       "    <tr>\n",
       "      <th>1</th>\n",
       "      <td>hari</td>\n",
       "      <td>2</td>\n",
       "      <td>Bhaktapur</td>\n",
       "    </tr>\n",
       "    <tr>\n",
       "      <th>2</th>\n",
       "      <td>sita</td>\n",
       "      <td>3</td>\n",
       "      <td>koteshawor</td>\n",
       "    </tr>\n",
       "  </tbody>\n",
       "</table>\n",
       "</div>"
      ],
      "text/plain": [
       "   name  age    location\n",
       "0   ram    1       Thimi\n",
       "1  hari    2   Bhaktapur\n",
       "2  sita    3  koteshawor"
      ]
     },
     "execution_count": 54,
     "metadata": {},
     "output_type": "execute_result"
    }
   ],
   "source": [
    "pd"
   ]
  },
  {
   "cell_type": "code",
   "execution_count": 55,
   "id": "6da5be35-041b-4746-a5b2-160e1e0dc880",
   "metadata": {},
   "outputs": [
    {
     "data": {
      "text/plain": [
       "pandas.core.frame.DataFrame"
      ]
     },
     "execution_count": 55,
     "metadata": {},
     "output_type": "execute_result"
    }
   ],
   "source": [
    "type(pd)"
   ]
  },
  {
   "cell_type": "code",
   "execution_count": 58,
   "id": "9aec4bbc-77c0-4a99-a92f-3949fc96c7ee",
   "metadata": {},
   "outputs": [
    {
     "data": {
      "text/plain": [
       "0         Thimi\n",
       "1     Bhaktapur\n",
       "2    koteshawor\n",
       "Name: location, dtype: object"
      ]
     },
     "execution_count": 58,
     "metadata": {},
     "output_type": "execute_result"
    }
   ],
   "source": [
    "pd[\"location\"]"
   ]
  },
  {
   "cell_type": "code",
   "execution_count": 60,
   "id": "a15361fb-42c2-46c8-ab3c-5e208a6be613",
   "metadata": {},
   "outputs": [
    {
     "data": {
      "text/plain": [
       "0    1\n",
       "1    2\n",
       "2    3\n",
       "Name: age, dtype: int64"
      ]
     },
     "execution_count": 60,
     "metadata": {},
     "output_type": "execute_result"
    }
   ],
   "source": [
    "pd[\"age\"]"
   ]
  },
  {
   "cell_type": "code",
   "execution_count": 68,
   "id": "70f14e07-5440-48d0-8b43-edbc37d39e41",
   "metadata": {},
   "outputs": [
    {
     "data": {
      "text/plain": [
       "RangeIndex(start=0, stop=3, step=1)"
      ]
     },
     "execution_count": 68,
     "metadata": {},
     "output_type": "execute_result"
    }
   ],
   "source": [
    "pd.index # to check index"
   ]
  },
  {
   "cell_type": "code",
   "execution_count": 69,
   "id": "7f351842-2305-404d-9caf-744eeca22652",
   "metadata": {},
   "outputs": [
    {
     "data": {
      "text/plain": [
       "Index(['name', 'age', 'location'], dtype='object')"
      ]
     },
     "execution_count": 69,
     "metadata": {},
     "output_type": "execute_result"
    }
   ],
   "source": [
    "pd.columns # to check columns"
   ]
  },
  {
   "cell_type": "code",
   "execution_count": null,
   "id": "f309f49d-0f06-4643-8bfb-2199c4069ff4",
   "metadata": {},
   "outputs": [],
   "source": []
  }
 ],
 "metadata": {
  "kernelspec": {
   "display_name": "Python [conda env:base] *",
   "language": "python",
   "name": "conda-base-py"
  },
  "language_info": {
   "codemirror_mode": {
    "name": "ipython",
    "version": 3
   },
   "file_extension": ".py",
   "mimetype": "text/x-python",
   "name": "python",
   "nbconvert_exporter": "python",
   "pygments_lexer": "ipython3",
   "version": "3.12.7"
  }
 },
 "nbformat": 4,
 "nbformat_minor": 5
}
