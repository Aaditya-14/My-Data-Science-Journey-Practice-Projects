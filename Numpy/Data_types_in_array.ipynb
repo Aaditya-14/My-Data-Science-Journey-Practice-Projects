{
 "cells": [
  {
   "cell_type": "code",
   "execution_count": 1,
   "id": "05e9a085-7096-43dd-b269-e8e3b939805b",
   "metadata": {},
   "outputs": [],
   "source": [
    "import numpy as np"
   ]
  },
  {
   "cell_type": "code",
   "execution_count": 2,
   "id": "eb22f2fe-2fdb-46c7-b154-5840e4430a10",
   "metadata": {},
   "outputs": [],
   "source": [
    "arr=np.array([1,2,3,4,5])"
   ]
  },
  {
   "cell_type": "code",
   "execution_count": 3,
   "id": "52a0321a-bf40-4f3e-9a11-d6071c5dc6d7",
   "metadata": {},
   "outputs": [
    {
     "data": {
      "text/plain": [
       "array([1, 2, 3, 4, 5])"
      ]
     },
     "execution_count": 3,
     "metadata": {},
     "output_type": "execute_result"
    }
   ],
   "source": [
    "arr"
   ]
  },
  {
   "cell_type": "code",
   "execution_count": 4,
   "id": "d66a5d9e-745a-4fc2-8ced-325cbc5cb4f9",
   "metadata": {},
   "outputs": [
    {
     "data": {
      "text/plain": [
       "dtype('int32')"
      ]
     },
     "execution_count": 4,
     "metadata": {},
     "output_type": "execute_result"
    }
   ],
   "source": [
    "arr.dtype"
   ]
  },
  {
   "cell_type": "code",
   "execution_count": 6,
   "id": "fd72babf-d5ff-4d8b-aab0-b36eabd557b0",
   "metadata": {},
   "outputs": [
    {
     "data": {
      "text/plain": [
       "array([1, 2, 3, 4, 5], dtype=int64)"
      ]
     },
     "execution_count": 6,
     "metadata": {},
     "output_type": "execute_result"
    }
   ],
   "source": [
    "arr.astype('int64')"
   ]
  },
  {
   "cell_type": "code",
   "execution_count": 8,
   "id": "957b4775-eb5e-48fe-8b5f-907ba20a35af",
   "metadata": {},
   "outputs": [
    {
     "data": {
      "text/plain": [
       "dtype('int32')"
      ]
     },
     "execution_count": 8,
     "metadata": {},
     "output_type": "execute_result"
    }
   ],
   "source": [
    "arr.dtype"
   ]
  },
  {
   "cell_type": "code",
   "execution_count": 9,
   "id": "7d0cbdd6-ff97-486c-82e4-285a44de634b",
   "metadata": {},
   "outputs": [
    {
     "data": {
      "text/plain": [
       "array([1., 2., 3., 4., 5.], dtype=float32)"
      ]
     },
     "execution_count": 9,
     "metadata": {},
     "output_type": "execute_result"
    }
   ],
   "source": [
    "arr.astype('float32')"
   ]
  },
  {
   "cell_type": "code",
   "execution_count": 16,
   "id": "bc802ce1-7a4d-4c11-910f-48d752e9564c",
   "metadata": {},
   "outputs": [],
   "source": [
    "arr1=np.array([\"orange\",\"apple\"], dtype='U10') #not recommend to use"
   ]
  },
  {
   "cell_type": "code",
   "execution_count": 17,
   "id": "1d5b55a0-2d83-44ef-bb2f-df836fdb0499",
   "metadata": {},
   "outputs": [
    {
     "data": {
      "text/plain": [
       "array(['orange', 'apple'], dtype='<U10')"
      ]
     },
     "execution_count": 17,
     "metadata": {},
     "output_type": "execute_result"
    }
   ],
   "source": [
    "arr1"
   ]
  },
  {
   "cell_type": "code",
   "execution_count": 20,
   "id": "ff4ee13a-191f-4823-adc6-a304a0ce7ffb",
   "metadata": {},
   "outputs": [],
   "source": [
    "arr2=np.array([5+2j,6+44j], dtype=\"complex\")\n",
    "arr3=np.array([5+5j,6+4j], dtype=\"complex\")"
   ]
  },
  {
   "cell_type": "code",
   "execution_count": 21,
   "id": "307b451c-d54e-4881-ad15-f831426f968e",
   "metadata": {},
   "outputs": [
    {
     "data": {
      "text/plain": [
       "array([10. +7.j, 12.+48.j])"
      ]
     },
     "execution_count": 21,
     "metadata": {},
     "output_type": "execute_result"
    }
   ],
   "source": [
    "arr2+arr3"
   ]
  },
  {
   "cell_type": "code",
   "execution_count": 25,
   "id": "8df8985b-9bbb-44fe-802b-77f24e6d80e3",
   "metadata": {},
   "outputs": [],
   "source": [
    "arr4=np.array([{'name':'ram'},{'age':12}], dtype=\"object\") #not recommend"
   ]
  },
  {
   "cell_type": "code",
   "execution_count": 26,
   "id": "331a30f4-deb0-4585-84c5-ff37b60a49c6",
   "metadata": {},
   "outputs": [
    {
     "data": {
      "text/plain": [
       "array([{'name': 'ram'}, {'age': 12}], dtype=object)"
      ]
     },
     "execution_count": 26,
     "metadata": {},
     "output_type": "execute_result"
    }
   ],
   "source": [
    "arr4"
   ]
  },
  {
   "cell_type": "code",
   "execution_count": null,
   "id": "3ea6f714-1538-4939-a683-414d0f1a1936",
   "metadata": {},
   "outputs": [],
   "source": []
  }
 ],
 "metadata": {
  "kernelspec": {
   "display_name": "Python [conda env:base] *",
   "language": "python",
   "name": "conda-base-py"
  },
  "language_info": {
   "codemirror_mode": {
    "name": "ipython",
    "version": 3
   },
   "file_extension": ".py",
   "mimetype": "text/x-python",
   "name": "python",
   "nbconvert_exporter": "python",
   "pygments_lexer": "ipython3",
   "version": "3.12.7"
  }
 },
 "nbformat": 4,
 "nbformat_minor": 5
}
