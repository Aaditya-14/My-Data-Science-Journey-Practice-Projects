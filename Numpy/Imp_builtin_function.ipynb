{
 "cells": [
  {
   "cell_type": "code",
   "execution_count": 1,
   "id": "d0890036-bb04-49f6-8919-b6d4ac142d58",
   "metadata": {},
   "outputs": [],
   "source": [
    "import numpy as np"
   ]
  },
  {
   "cell_type": "code",
   "execution_count": 2,
   "id": "f54bb397-b7ea-4aae-b58e-a82c55d68bc1",
   "metadata": {},
   "outputs": [],
   "source": [
    "arr=np.array([1,2,3,4,5,6,7])"
   ]
  },
  {
   "cell_type": "code",
   "execution_count": 4,
   "id": "64e9b78d-7b4f-4a8b-a026-357b2be35eed",
   "metadata": {},
   "outputs": [
    {
     "data": {
      "text/plain": [
       "4.0"
      ]
     },
     "execution_count": 4,
     "metadata": {},
     "output_type": "execute_result"
    }
   ],
   "source": [
    "np.mean(arr)#mean|"
   ]
  },
  {
   "cell_type": "code",
   "execution_count": 5,
   "id": "2c1a2dfb-d8d6-4f22-b3e5-4eee7d101ef2",
   "metadata": {},
   "outputs": [
    {
     "data": {
      "text/plain": [
       "4.0"
      ]
     },
     "execution_count": 5,
     "metadata": {},
     "output_type": "execute_result"
    }
   ],
   "source": [
    "np.median(arr) #Median"
   ]
  },
  {
   "cell_type": "code",
   "execution_count": 8,
   "id": "9bb10209-136e-460f-8d00-5c4eb74ff32f",
   "metadata": {},
   "outputs": [
    {
     "data": {
      "text/plain": [
       "28"
      ]
     },
     "execution_count": 8,
     "metadata": {},
     "output_type": "execute_result"
    }
   ],
   "source": [
    "np.sum(arr)#sum"
   ]
  },
  {
   "cell_type": "code",
   "execution_count": 9,
   "id": "e6c65f20-3384-4473-aed8-4f4ba458b79b",
   "metadata": {},
   "outputs": [
    {
     "data": {
      "text/plain": [
       "1"
      ]
     },
     "execution_count": 9,
     "metadata": {},
     "output_type": "execute_result"
    }
   ],
   "source": [
    "np.min(arr)# Get min"
   ]
  },
  {
   "cell_type": "code",
   "execution_count": 10,
   "id": "d55ad65b-5c77-4133-8128-71f0506c3033",
   "metadata": {},
   "outputs": [
    {
     "data": {
      "text/plain": [
       "7"
      ]
     },
     "execution_count": 10,
     "metadata": {},
     "output_type": "execute_result"
    }
   ],
   "source": [
    "np.max(arr)#max"
   ]
  },
  {
   "cell_type": "code",
   "execution_count": 11,
   "id": "69fc8b3d-c92c-48f0-82e5-0b4da882e3a8",
   "metadata": {},
   "outputs": [
    {
     "data": {
      "text/plain": [
       "2.0"
      ]
     },
     "execution_count": 11,
     "metadata": {},
     "output_type": "execute_result"
    }
   ],
   "source": [
    "np.std(arr)#standard deviation"
   ]
  },
  {
   "cell_type": "code",
   "execution_count": 13,
   "id": "1992b551-3d51-4a94-ae1f-f91a87591132",
   "metadata": {},
   "outputs": [
    {
     "data": {
      "text/plain": [
       "4.0"
      ]
     },
     "execution_count": 13,
     "metadata": {},
     "output_type": "execute_result"
    }
   ],
   "source": [
    "np.var(arr)#variance"
   ]
  },
  {
   "cell_type": "code",
   "execution_count": 14,
   "id": "099ed3ff-450f-4f80-a2a4-432b7e8b071e",
   "metadata": {},
   "outputs": [
    {
     "data": {
      "text/plain": [
       "5040"
      ]
     },
     "execution_count": 14,
     "metadata": {},
     "output_type": "execute_result"
    }
   ],
   "source": [
    "np.prod(arr)#product"
   ]
  },
  {
   "cell_type": "code",
   "execution_count": 16,
   "id": "a2f7f8dd-3dc0-4414-a132-fa67129ff1fe",
   "metadata": {},
   "outputs": [
    {
     "data": {
      "text/plain": [
       "1.24"
      ]
     },
     "execution_count": 16,
     "metadata": {},
     "output_type": "execute_result"
    }
   ],
   "source": [
    "np.percentile(arr,4)#percentile"
   ]
  },
  {
   "cell_type": "code",
   "execution_count": 17,
   "id": "d3a30c2d-4285-48fb-9746-49e677307aec",
   "metadata": {},
   "outputs": [
    {
     "data": {
      "text/plain": [
       "0"
      ]
     },
     "execution_count": 17,
     "metadata": {},
     "output_type": "execute_result"
    }
   ],
   "source": [
    "np.argmin(arr)#index of min"
   ]
  },
  {
   "cell_type": "code",
   "execution_count": 18,
   "id": "9d39a7f0-eedc-42d2-885e-c5b1d9dff2af",
   "metadata": {},
   "outputs": [
    {
     "data": {
      "text/plain": [
       "6"
      ]
     },
     "execution_count": 18,
     "metadata": {},
     "output_type": "execute_result"
    }
   ],
   "source": [
    "np.argmax(arr)#index of max"
   ]
  },
  {
   "cell_type": "code",
   "execution_count": 24,
   "id": "64b37161-b149-41b8-b72d-f6154d77c9fd",
   "metadata": {},
   "outputs": [
    {
     "data": {
      "text/plain": [
       "array([[1., 1.],\n",
       "       [1., 1.]])"
      ]
     },
     "execution_count": 24,
     "metadata": {},
     "output_type": "execute_result"
    }
   ],
   "source": [
    "np.corrcoef(arr, arr)#coorelation cofficient\n"
   ]
  },
  {
   "cell_type": "code",
   "execution_count": 26,
   "id": "980aa3e8-655a-4b81-911d-156213465747",
   "metadata": {},
   "outputs": [
    {
     "data": {
      "text/plain": [
       "array([1, 2, 3, 4, 5, 6, 7])"
      ]
     },
     "execution_count": 26,
     "metadata": {},
     "output_type": "execute_result"
    }
   ],
   "source": [
    "np.unique(arr)#only uniq element"
   ]
  },
  {
   "cell_type": "code",
   "execution_count": 27,
   "id": "63f42dad-b22c-43a4-9cea-17ccf2f2ee19",
   "metadata": {},
   "outputs": [
    {
     "data": {
      "text/plain": [
       "array([ 1,  3,  6, 10, 15, 21, 28])"
      ]
     },
     "execution_count": 27,
     "metadata": {},
     "output_type": "execute_result"
    }
   ],
   "source": [
    "np.cumsum(arr)#cumlucative sum"
   ]
  },
  {
   "cell_type": "code",
   "execution_count": 42,
   "id": "b4c76895-2efe-41f3-a207-074ec48ed70a",
   "metadata": {},
   "outputs": [
    {
     "data": {
      "text/plain": [
       "array([3.        , 3.04040404, 3.08080808, 3.12121212, 3.16161616,\n",
       "       3.2020202 , 3.24242424, 3.28282828, 3.32323232, 3.36363636,\n",
       "       3.4040404 , 3.44444444, 3.48484848, 3.52525253, 3.56565657,\n",
       "       3.60606061, 3.64646465, 3.68686869, 3.72727273, 3.76767677,\n",
       "       3.80808081, 3.84848485, 3.88888889, 3.92929293, 3.96969697,\n",
       "       4.01010101, 4.05050505, 4.09090909, 4.13131313, 4.17171717,\n",
       "       4.21212121, 4.25252525, 4.29292929, 4.33333333, 4.37373737,\n",
       "       4.41414141, 4.45454545, 4.49494949, 4.53535354, 4.57575758,\n",
       "       4.61616162, 4.65656566, 4.6969697 , 4.73737374, 4.77777778,\n",
       "       4.81818182, 4.85858586, 4.8989899 , 4.93939394, 4.97979798,\n",
       "       5.02020202, 5.06060606, 5.1010101 , 5.14141414, 5.18181818,\n",
       "       5.22222222, 5.26262626, 5.3030303 , 5.34343434, 5.38383838,\n",
       "       5.42424242, 5.46464646, 5.50505051, 5.54545455, 5.58585859,\n",
       "       5.62626263, 5.66666667, 5.70707071, 5.74747475, 5.78787879,\n",
       "       5.82828283, 5.86868687, 5.90909091, 5.94949495, 5.98989899,\n",
       "       6.03030303, 6.07070707, 6.11111111, 6.15151515, 6.19191919,\n",
       "       6.23232323, 6.27272727, 6.31313131, 6.35353535, 6.39393939,\n",
       "       6.43434343, 6.47474747, 6.51515152, 6.55555556, 6.5959596 ,\n",
       "       6.63636364, 6.67676768, 6.71717172, 6.75757576, 6.7979798 ,\n",
       "       6.83838384, 6.87878788, 6.91919192, 6.95959596, 7.        ])"
      ]
     },
     "execution_count": 42,
     "metadata": {},
     "output_type": "execute_result"
    }
   ],
   "source": [
    "arr1 = np.linspace(3, 7, num=100) #evenly spread number\n",
    "arr1"
   ]
  },
  {
   "cell_type": "code",
   "execution_count": 51,
   "id": "4f905a81-9d78-4163-94be-b366d293b77c",
   "metadata": {},
   "outputs": [],
   "source": [
    "arr=np.array([1,2,3,4,5,6,7])"
   ]
  },
  {
   "cell_type": "code",
   "execution_count": 52,
   "id": "d41478a9-5d2e-435c-b89c-2523c2431b4e",
   "metadata": {},
   "outputs": [
    {
     "data": {
      "text/plain": [
       "array([   2.71828183,    7.3890561 ,   20.08553692,   54.59815003,\n",
       "        148.4131591 ,  403.42879349, 1096.63315843])"
      ]
     },
     "execution_count": 52,
     "metadata": {},
     "output_type": "execute_result"
    }
   ],
   "source": [
    "np.exp(arr)#expontial "
   ]
  },
  {
   "cell_type": "code",
   "execution_count": 53,
   "id": "942ae3ec-b1a9-4b8a-8d59-779f65054106",
   "metadata": {},
   "outputs": [],
   "source": [
    "arr=np.array([1,2,3,4,5,6,7])"
   ]
  },
  {
   "cell_type": "code",
   "execution_count": 54,
   "id": "1151da08-486e-493a-bcef-e7b6d2506421",
   "metadata": {},
   "outputs": [
    {
     "data": {
      "text/plain": [
       "array([0.        , 0.69314718, 1.09861229, 1.38629436, 1.60943791,\n",
       "       1.79175947, 1.94591015])"
      ]
     },
     "execution_count": 54,
     "metadata": {},
     "output_type": "execute_result"
    }
   ],
   "source": [
    "np.log(arr)#natural logarithm"
   ]
  },
  {
   "cell_type": "code",
   "execution_count": 55,
   "id": "07385b60-c3c5-4447-aa46-f83f796435cd",
   "metadata": {},
   "outputs": [
    {
     "data": {
      "text/plain": [
       "array([1, 2, 3, 4, 5, 6, 7])"
      ]
     },
     "execution_count": 55,
     "metadata": {},
     "output_type": "execute_result"
    }
   ],
   "source": [
    "arr"
   ]
  },
  {
   "cell_type": "code",
   "execution_count": 56,
   "id": "f24b21c6-0ee7-4a2c-a4a6-5b0bf6656c0b",
   "metadata": {},
   "outputs": [],
   "source": [
    "#these are the most important mathmatical operation done using numpy"
   ]
  },
  {
   "cell_type": "code",
   "execution_count": null,
   "id": "df36af8c-40fc-4132-95bb-04339f4f3991",
   "metadata": {},
   "outputs": [],
   "source": []
  }
 ],
 "metadata": {
  "kernelspec": {
   "display_name": "Python [conda env:base] *",
   "language": "python",
   "name": "conda-base-py"
  },
  "language_info": {
   "codemirror_mode": {
    "name": "ipython",
    "version": 3
   },
   "file_extension": ".py",
   "mimetype": "text/x-python",
   "name": "python",
   "nbconvert_exporter": "python",
   "pygments_lexer": "ipython3",
   "version": "3.12.7"
  }
 },
 "nbformat": 4,
 "nbformat_minor": 5
}
