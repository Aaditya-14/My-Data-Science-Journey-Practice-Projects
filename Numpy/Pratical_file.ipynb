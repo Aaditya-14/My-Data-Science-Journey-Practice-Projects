{
 "cells": [
  {
   "cell_type": "code",
   "execution_count": 1,
   "id": "179f1e0a-7aec-4b51-863a-668fa2d8242f",
   "metadata": {},
   "outputs": [],
   "source": [
    "import numpy as np"
   ]
  },
  {
   "cell_type": "code",
   "execution_count": 8,
   "id": "ec1e13b6-679f-41af-9c94-cd495d6730d2",
   "metadata": {},
   "outputs": [],
   "source": [
    "arr=np.arange(0,51,5)"
   ]
  },
  {
   "cell_type": "code",
   "execution_count": 9,
   "id": "0dffd463-5ba2-42b1-8933-fd0405b2d5f1",
   "metadata": {},
   "outputs": [
    {
     "data": {
      "text/plain": [
       "array([ 0,  5, 10, 15, 20, 25, 30, 35, 40, 45, 50])"
      ]
     },
     "execution_count": 9,
     "metadata": {},
     "output_type": "execute_result"
    }
   ],
   "source": [
    "arr"
   ]
  },
  {
   "cell_type": "code",
   "execution_count": 10,
   "id": "14253aba-b4e1-4b68-99d4-3d2650da6014",
   "metadata": {},
   "outputs": [],
   "source": [
    "import random"
   ]
  },
  {
   "cell_type": "code",
   "execution_count": 18,
   "id": "3c774386-0d9d-4d64-8591-aa9eaf0d8ba2",
   "metadata": {},
   "outputs": [],
   "source": [
    "arr1=np.random.randint(1,100,size=(3,3))"
   ]
  },
  {
   "cell_type": "code",
   "execution_count": 19,
   "id": "62595ad0-ee1e-4be3-8d51-2f0490b46673",
   "metadata": {},
   "outputs": [
    {
     "data": {
      "text/plain": [
       "array([[13, 11, 32],\n",
       "       [86, 81, 52],\n",
       "       [47, 96, 22]])"
      ]
     },
     "execution_count": 19,
     "metadata": {},
     "output_type": "execute_result"
    }
   ],
   "source": [
    "arr1"
   ]
  },
  {
   "cell_type": "code",
   "execution_count": 20,
   "id": "c26df0c7-fd3d-4928-b0cf-4c89f236cb1f",
   "metadata": {},
   "outputs": [],
   "source": [
    "arr3 = np.array([[10, 20, 30],\n",
    "                [40, 50, 60],\n",
    "                [70, 80, 90]])"
   ]
  },
  {
   "cell_type": "code",
   "execution_count": 21,
   "id": "1624ab1b-9f82-4f57-8b8e-92989e60e207",
   "metadata": {},
   "outputs": [
    {
     "data": {
      "text/plain": [
       "array([[10, 20, 30],\n",
       "       [40, 50, 60],\n",
       "       [70, 80, 90]])"
      ]
     },
     "execution_count": 21,
     "metadata": {},
     "output_type": "execute_result"
    }
   ],
   "source": [
    "arr3"
   ]
  },
  {
   "cell_type": "code",
   "execution_count": 31,
   "id": "42416397-6a00-416c-9db5-8765e0324e4e",
   "metadata": {},
   "outputs": [],
   "source": [
    "arr3[2,1]=0"
   ]
  },
  {
   "cell_type": "code",
   "execution_count": 32,
   "id": "c9daf9cf-ee62-4dbf-9f21-fbf7f1aac9b6",
   "metadata": {},
   "outputs": [
    {
     "data": {
      "text/plain": [
       "array([[10, 20, 30],\n",
       "       [40, 50, 60],\n",
       "       [70,  0, 90]])"
      ]
     },
     "execution_count": 32,
     "metadata": {},
     "output_type": "execute_result"
    }
   ],
   "source": [
    "arr3"
   ]
  },
  {
   "cell_type": "code",
   "execution_count": 34,
   "id": "2032d53a-f152-426b-aed1-b60064d2fe6d",
   "metadata": {},
   "outputs": [],
   "source": [
    "arr4=np.eye(3,3)"
   ]
  },
  {
   "cell_type": "code",
   "execution_count": 35,
   "id": "6fd4c205-1262-45ac-8b70-fc328a08df61",
   "metadata": {},
   "outputs": [
    {
     "data": {
      "text/plain": [
       "array([[1., 0., 0.],\n",
       "       [0., 1., 0.],\n",
       "       [0., 0., 1.]])"
      ]
     },
     "execution_count": 35,
     "metadata": {},
     "output_type": "execute_result"
    }
   ],
   "source": [
    "arr4"
   ]
  },
  {
   "cell_type": "code",
   "execution_count": 36,
   "id": "53362ee6-7e55-4676-9d6e-9b9cb2d1dcdd",
   "metadata": {},
   "outputs": [],
   "source": [
    "arr5 = np.array([1, 2, 3, 4, 5])\n",
    "min=np.min(arr5)\n",
    "max=np.max(arr5)\n",
    "normalization=(arr5-min)/(max-min)\n"
   ]
  },
  {
   "cell_type": "code",
   "execution_count": 37,
   "id": "015fbb59-a8bd-4bf7-9450-3bd6e11129b6",
   "metadata": {},
   "outputs": [
    {
     "data": {
      "text/plain": [
       "array([0.  , 0.25, 0.5 , 0.75, 1.  ])"
      ]
     },
     "execution_count": 37,
     "metadata": {},
     "output_type": "execute_result"
    }
   ],
   "source": [
    "normalization"
   ]
  },
  {
   "cell_type": "code",
   "execution_count": 46,
   "id": "6ddb83b3-fb3c-4e00-a23d-62f2d682cf61",
   "metadata": {},
   "outputs": [
    {
     "name": "stdout",
     "output_type": "stream",
     "text": [
      "Addition: [3 6 9]\n",
      "Subtraction: [1 2 3]\n",
      "Multiplication: [ 2  8 18]\n",
      "Division: [2. 2. 2.]\n"
     ]
    }
   ],
   "source": [
    "a = np.array([2, 4, 6])\n",
    "b = np.array([1, 2, 3])\n",
    "print(\"Addition:\", a + b)\n",
    "print(\"Subtraction:\", a - b)\n",
    "print(\"Multiplication:\", a * b)\n",
    "print(\"Division:\", a / b)"
   ]
  },
  {
   "cell_type": "code",
   "execution_count": 47,
   "id": "3b73a3e3-4bd1-4ae2-a2ee-141d3491ee91",
   "metadata": {},
   "outputs": [],
   "source": [
    "arra = np.array([1, 2, 3, 4, 5, 6, 7, 8, 9])\n",
    "mean=np.mean(arra)\n",
    "median=np.mean(arra)\n",
    "std=np.std(arra)"
   ]
  },
  {
   "cell_type": "code",
   "execution_count": 48,
   "id": "9ad13232-e3d6-4552-af7d-902fe2ac6a67",
   "metadata": {},
   "outputs": [
    {
     "data": {
      "text/plain": [
       "2.581988897471611"
      ]
     },
     "execution_count": 48,
     "metadata": {},
     "output_type": "execute_result"
    }
   ],
   "source": [
    "std"
   ]
  },
  {
   "cell_type": "code",
   "execution_count": 49,
   "id": "94265af3-93db-4494-98d2-a2935d82a2cd",
   "metadata": {},
   "outputs": [],
   "source": [
    "arra1 = np.array([[1, 2, 3],\n",
    "                [4, 5, 6],\n",
    "                [7, 8, 9]])\n",
    "\n",
    "new=arra1.flatten()\n",
    "\n"
   ]
  },
  {
   "cell_type": "code",
   "execution_count": 50,
   "id": "cae8fd6f-19ad-4dba-b055-55c74c1a7398",
   "metadata": {},
   "outputs": [
    {
     "data": {
      "text/plain": [
       "array([1, 2, 3, 4, 5, 6, 7, 8, 9])"
      ]
     },
     "execution_count": 50,
     "metadata": {},
     "output_type": "execute_result"
    }
   ],
   "source": [
    "new"
   ]
  },
  {
   "cell_type": "code",
   "execution_count": 52,
   "id": "cd4a5340-bf40-430c-95a0-6dc753e2084c",
   "metadata": {},
   "outputs": [],
   "source": [
    "arr = np.array([1, 2, 3, 4, 5, 6, 7, 8, 9, 10])\n",
    "\n",
    "even=arr=[arr % 2 ==0]"
   ]
  },
  {
   "cell_type": "code",
   "execution_count": 54,
   "id": "ccfc3f88-4eb1-432e-8c02-10cc07bc3fab",
   "metadata": {},
   "outputs": [
    {
     "data": {
      "text/plain": [
       "[array([False,  True, False,  True, False,  True, False,  True, False,\n",
       "         True])]"
      ]
     },
     "execution_count": 54,
     "metadata": {},
     "output_type": "execute_result"
    }
   ],
   "source": [
    "arr"
   ]
  },
  {
   "cell_type": "code",
   "execution_count": 56,
   "id": "3b4e0a08-a986-475d-b027-a5770110005c",
   "metadata": {},
   "outputs": [
    {
     "ename": "NameError",
     "evalue": "name 'even' is not defined",
     "output_type": "error",
     "traceback": [
      "\u001b[1;31m---------------------------------------------------------------------------\u001b[0m",
      "\u001b[1;31mNameError\u001b[0m                                 Traceback (most recent call last)",
      "Cell \u001b[1;32mIn[56], line 1\u001b[0m\n\u001b[1;32m----> 1\u001b[0m even\n",
      "\u001b[1;31mNameError\u001b[0m: name 'even' is not defined"
     ]
    }
   ],
   "source": [
    "even"
   ]
  },
  {
   "cell_type": "code",
   "execution_count": null,
   "id": "981e6c77-3688-40cd-9584-98ea351bec9e",
   "metadata": {},
   "outputs": [],
   "source": []
  }
 ],
 "metadata": {
  "kernelspec": {
   "display_name": "Python [conda env:base] *",
   "language": "python",
   "name": "conda-base-py"
  },
  "language_info": {
   "codemirror_mode": {
    "name": "ipython",
    "version": 3
   },
   "file_extension": ".py",
   "mimetype": "text/x-python",
   "name": "python",
   "nbconvert_exporter": "python",
   "pygments_lexer": "ipython3",
   "version": "3.12.7"
  }
 },
 "nbformat": 4,
 "nbformat_minor": 5
}
