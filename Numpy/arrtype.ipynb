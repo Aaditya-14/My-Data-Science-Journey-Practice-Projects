{
 "cells": [
  {
   "cell_type": "code",
   "execution_count": 1,
   "id": "1925742d-f938-4944-990a-9132fda736a5",
   "metadata": {},
   "outputs": [],
   "source": [
    "import numpy as np"
   ]
  },
  {
   "cell_type": "code",
   "execution_count": 2,
   "id": "11c1b990-c9a8-4db7-baea-f17a33ce94d4",
   "metadata": {},
   "outputs": [],
   "source": [
    "#To Create array \n",
    "\n",
    "arr=np.array([1,2,3] ) #list of array"
   ]
  },
  {
   "cell_type": "code",
   "execution_count": 3,
   "id": "444e4dec-9e1a-44dc-bbad-5c274bd1dc13",
   "metadata": {},
   "outputs": [
    {
     "name": "stdout",
     "output_type": "stream",
     "text": [
      "[1 2 3]\n"
     ]
    }
   ],
   "source": [
    "print(arr)\n"
   ]
  },
  {
   "cell_type": "code",
   "execution_count": 4,
   "id": "3fa1671c-ebb6-4054-a389-5a0e049f9cb4",
   "metadata": {},
   "outputs": [],
   "source": [
    "#1d array= have on list \n",
    "#2d=multiple list \n",
    "#3d= list of list"
   ]
  },
  {
   "cell_type": "code",
   "execution_count": 7,
   "id": "d0d59eef-269c-4e87-b105-616012035af6",
   "metadata": {},
   "outputs": [],
   "source": [
    "arr=np.zeros([3,3])\n",
    "arr1=np.ones([3,3])\n",
    "arr2=np.full([3,3],4)"
   ]
  },
  {
   "cell_type": "code",
   "execution_count": 10,
   "id": "455b412d-dc10-460a-96d7-b28a34665b40",
   "metadata": {},
   "outputs": [
    {
     "name": "stdout",
     "output_type": "stream",
     "text": [
      "[[0. 0. 0.]\n",
      " [0. 0. 0.]\n",
      " [0. 0. 0.]]\n",
      "[[1. 1. 1.]\n",
      " [1. 1. 1.]\n",
      " [1. 1. 1.]]\n",
      "[[4 4 4]\n",
      " [4 4 4]\n",
      " [4 4 4]]\n"
     ]
    }
   ],
   "source": [
    "print(arr)\n",
    "\n",
    "print(arr1)\n",
    "\n",
    "print(arr2)\n"
   ]
  },
  {
   "cell_type": "code",
   "execution_count": 13,
   "id": "eeac3de8-ddec-4244-9e8b-b719d0fe6824",
   "metadata": {},
   "outputs": [
    {
     "name": "stdout",
     "output_type": "stream",
     "text": [
      "[[1. 0. 0.]\n",
      " [0. 1. 0.]\n",
      " [0. 0. 1.]]\n"
     ]
    }
   ],
   "source": [
    "#identity matrix:[[1. 0. 0.]\n",
    "                 #[0. 1. 0.]\n",
    "                  #[0. 0. 1.]]\n",
    "\n",
    "arr=np.eye(3,3) #print identity matrix according to your order\n",
    "print (arr)\n"
   ]
  },
  {
   "cell_type": "code",
   "execution_count": 15,
   "id": "5dbbc4d5-86f7-4a47-ace1-e9970195296f",
   "metadata": {},
   "outputs": [
    {
     "name": "stdout",
     "output_type": "stream",
     "text": [
      "[ 1 11 21 31 41 51 61 71 81 91]\n"
     ]
    }
   ],
   "source": [
    "#add two number and provide another number:\n",
    "arr=np.arange(1,100,10) #add each no with 10 and provide another array\n",
    "print (arr)    \n"
   ]
  },
  {
   "cell_type": "code",
   "execution_count": 19,
   "id": "0bfda637-13a5-4336-ae08-26eef43b92b4",
   "metadata": {},
   "outputs": [
    {
     "name": "stdout",
     "output_type": "stream",
     "text": [
      "[  1.           8.07142857  15.14285714  22.21428571  29.28571429\n",
      "  36.35714286  43.42857143  50.5         57.57142857  64.64285714\n",
      "  71.71428571  78.78571429  85.85714286  92.92857143 100.        ]\n"
     ]
    }
   ],
   "source": [
    "arr=np.linspace(1,100,15) #Betweem 1 and 100 it provide 10 arrays if we put 15 insted of 10 it provide list of 15 arrays\n",
    "print (arr)"
   ]
  },
  {
   "cell_type": "code",
   "execution_count": 38,
   "id": "9f08a7a7-1e6d-47b8-899f-a2a5bad5bc83",
   "metadata": {},
   "outputs": [],
   "source": [
    "#Checking array propoties\n",
    "\n",
    "arr=np.array([ [ [1,2,3],[4,5,6],[7,8,9]] ,\n",
    "              \n",
    "              [[1,2,3],[4,5,6],[7,8,9]   ]   ])\n",
    "\n",
    "shape=arr.shape\n",
    "size=arr.size\n",
    "ndim=arr.ndim\n",
    "dtype=arr.dtype"
   ]
  },
  {
   "cell_type": "code",
   "execution_count": 39,
   "id": "aed2e73e-a1b3-4914-8435-82b819d05eb8",
   "metadata": {},
   "outputs": [
    {
     "name": "stdout",
     "output_type": "stream",
     "text": [
      "(2, 3, 3)\n",
      "18\n",
      "3\n",
      "int32\n"
     ]
    }
   ],
   "source": [
    "print(shape) # print no of rows and column\n",
    "print(size)  #Print how many no of array it contain\n",
    "print(ndim)  #print ndim DIMENSION      #1darray= have on list  #2d=multiple list    #3d= list of list\n",
    "print(dtype) #print data type of the array\n"
   ]
  },
  {
   "cell_type": "code",
   "execution_count": 40,
   "id": "b5669e64-e85c-497e-93bf-adbaa251d422",
   "metadata": {},
   "outputs": [],
   "source": [
    "#Changing datatype in array:\n",
    "#astype=change the datatype of array\n",
    "#reshape = change the shape of array"
   ]
  },
  {
   "cell_type": "code",
   "execution_count": 43,
   "id": "14125463-f200-4884-b2ff-16aec6884522",
   "metadata": {},
   "outputs": [
    {
     "name": "stdout",
     "output_type": "stream",
     "text": [
      "[[1 2]\n",
      " [3 4]]\n"
     ]
    }
   ],
   "source": [
    "arr=np.array([1,2,3,4]) \n",
    "reshape=arr.reshape(2,2) # change shape but order must be matched\n",
    "print(reshape)"
   ]
  },
  {
   "cell_type": "code",
   "execution_count": 49,
   "id": "ea1a17b3-075d-4cbf-808e-4d0eaeece9bd",
   "metadata": {},
   "outputs": [
    {
     "name": "stdout",
     "output_type": "stream",
     "text": [
      "int32\n",
      "int64\n"
     ]
    }
   ],
   "source": [
    "arr=np.array([1,2,3,4]) \n",
    "print(arr.dtype)\n",
    "astype=arr.astype(\"int64\")# change the datatype of array\n",
    "print(astype.dtype)\n"
   ]
  },
  {
   "cell_type": "code",
   "execution_count": null,
   "id": "7f042ea1-477e-44be-b023-67b6487054ca",
   "metadata": {},
   "outputs": [],
   "source": []
  }
 ],
 "metadata": {
  "kernelspec": {
   "display_name": "Python [conda env:base] *",
   "language": "python",
   "name": "conda-base-py"
  },
  "language_info": {
   "codemirror_mode": {
    "name": "ipython",
    "version": 3
   },
   "file_extension": ".py",
   "mimetype": "text/x-python",
   "name": "python",
   "nbconvert_exporter": "python",
   "pygments_lexer": "ipython3",
   "version": "3.12.7"
  }
 },
 "nbformat": 4,
 "nbformat_minor": 5
}
