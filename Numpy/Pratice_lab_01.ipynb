{
 "cells": [
  {
   "cell_type": "code",
   "execution_count": 2,
   "id": "0054d154-137a-4972-ab71-c5119925ebb6",
   "metadata": {},
   "outputs": [],
   "source": [
    "import numpy as np\n",
    "arr=np.array([[1,2,3],[4,5,6],[7,8,9]])"
   ]
  },
  {
   "cell_type": "code",
   "execution_count": 3,
   "id": "478cab0a-effa-405d-9df5-d0ff2d9b319a",
   "metadata": {},
   "outputs": [
    {
     "data": {
      "text/plain": [
       "array([[1, 2, 3],\n",
       "       [4, 5, 6],\n",
       "       [7, 8, 9]])"
      ]
     },
     "execution_count": 3,
     "metadata": {},
     "output_type": "execute_result"
    }
   ],
   "source": [
    "arr"
   ]
  },
  {
   "cell_type": "code",
   "execution_count": 4,
   "id": "f3cbded9-95ec-4f76-b2c5-4e2321bfd692",
   "metadata": {},
   "outputs": [
    {
     "data": {
      "text/plain": [
       "(3, 3)"
      ]
     },
     "execution_count": 4,
     "metadata": {},
     "output_type": "execute_result"
    }
   ],
   "source": [
    "arr.shape"
   ]
  },
  {
   "cell_type": "code",
   "execution_count": null,
   "id": "dfe238dd-5821-4683-9b45-9a46e5f8bb49",
   "metadata": {},
   "outputs": [],
   "source": []
  },
  {
   "cell_type": "code",
   "execution_count": 5,
   "id": "cca77100-d443-40fb-9dbf-800ab30cbf03",
   "metadata": {},
   "outputs": [],
   "source": [
    "#qus2\n",
    "flo=np.array([1.1 , 2.2 , 3.3])"
   ]
  },
  {
   "cell_type": "code",
   "execution_count": 6,
   "id": "be937201-b554-4a40-a596-b898f66ef413",
   "metadata": {},
   "outputs": [
    {
     "data": {
      "text/plain": [
       "array([1.1, 2.2, 3.3])"
      ]
     },
     "execution_count": 6,
     "metadata": {},
     "output_type": "execute_result"
    }
   ],
   "source": [
    "flo"
   ]
  },
  {
   "cell_type": "code",
   "execution_count": 8,
   "id": "892e944c-2be7-4d70-9c6f-6245fa7eb88a",
   "metadata": {},
   "outputs": [
    {
     "data": {
      "text/plain": [
       "dtype('float64')"
      ]
     },
     "execution_count": 8,
     "metadata": {},
     "output_type": "execute_result"
    }
   ],
   "source": [
    "flo.dtype"
   ]
  },
  {
   "cell_type": "code",
   "execution_count": 16,
   "id": "40c8d213-2abc-4d18-aca5-3c64e7238edf",
   "metadata": {},
   "outputs": [],
   "source": [
    "newarr=flo.astype('int64')"
   ]
  },
  {
   "cell_type": "code",
   "execution_count": 19,
   "id": "e0349346-2d92-45e7-88b1-b8fdfddafea9",
   "metadata": {},
   "outputs": [
    {
     "data": {
      "text/plain": [
       "array([1, 2, 3], dtype=int64)"
      ]
     },
     "execution_count": 19,
     "metadata": {},
     "output_type": "execute_result"
    }
   ],
   "source": [
    "newarr"
   ]
  },
  {
   "cell_type": "code",
   "execution_count": null,
   "id": "7e6e28e8-d993-48a6-851b-ccb5b85530ea",
   "metadata": {},
   "outputs": [],
   "source": []
  },
  {
   "cell_type": "code",
   "execution_count": 23,
   "id": "391bff6c-f2d0-4686-94a7-964fb7608258",
   "metadata": {},
   "outputs": [],
   "source": [
    "#qs 3"
   ]
  },
  {
   "cell_type": "code",
   "execution_count": 24,
   "id": "5c12d255-7d5b-4ee4-831c-e8df6cf52364",
   "metadata": {},
   "outputs": [],
   "source": [
    "arra=np.array([1,2,3,4,5,6])"
   ]
  },
  {
   "cell_type": "code",
   "execution_count": 29,
   "id": "6cd0e560-8b36-42ae-ade0-e6b34e0d8d01",
   "metadata": {},
   "outputs": [
    {
     "data": {
      "text/plain": [
       "array([2, 4, 6])"
      ]
     },
     "execution_count": 29,
     "metadata": {},
     "output_type": "execute_result"
    }
   ],
   "source": [
    "arra[[1,3,5]]"
   ]
  },
  {
   "cell_type": "code",
   "execution_count": null,
   "id": "9dcb1277-767c-4e5f-84d6-59dd92e4706b",
   "metadata": {},
   "outputs": [],
   "source": []
  },
  {
   "cell_type": "code",
   "execution_count": 30,
   "id": "0b4a70d8-b502-4a55-b301-044907755c36",
   "metadata": {},
   "outputs": [],
   "source": [
    "#qs4\n"
   ]
  },
  {
   "cell_type": "code",
   "execution_count": 31,
   "id": "e79a1f62-be1e-462f-9faa-6acaaa2d007d",
   "metadata": {},
   "outputs": [],
   "source": [
    "arra=np.array([1,2,3,4,5,6,7,8,9])"
   ]
  },
  {
   "cell_type": "code",
   "execution_count": 32,
   "id": "6027c00d-2c7a-4895-88ae-c190a73fea53",
   "metadata": {},
   "outputs": [
    {
     "data": {
      "text/plain": [
       "array([[1, 2, 3],\n",
       "       [4, 5, 6],\n",
       "       [7, 8, 9]])"
      ]
     },
     "execution_count": 32,
     "metadata": {},
     "output_type": "execute_result"
    }
   ],
   "source": [
    "arra.reshape(3,3)"
   ]
  },
  {
   "cell_type": "code",
   "execution_count": null,
   "id": "8c23e8e4-213d-48df-980b-9a3f36f9a7fc",
   "metadata": {},
   "outputs": [],
   "source": []
  },
  {
   "cell_type": "code",
   "execution_count": 33,
   "id": "8e3e4c94-0441-4282-951f-41e29e2a1052",
   "metadata": {},
   "outputs": [],
   "source": [
    "#qs5"
   ]
  },
  {
   "cell_type": "code",
   "execution_count": 34,
   "id": "1652cf49-607d-4adf-96b9-d2fe66d0547d",
   "metadata": {},
   "outputs": [],
   "source": [
    "arra=np.array([2,3,4,5,32,54,76,546,76,87,456,65])\n",
    "new=arra[arra>50]"
   ]
  },
  {
   "cell_type": "code",
   "execution_count": 35,
   "id": "ac91022a-6e16-4324-9aca-a360223bf368",
   "metadata": {},
   "outputs": [
    {
     "data": {
      "text/plain": [
       "array([ 54,  76, 546,  76,  87, 456,  65])"
      ]
     },
     "execution_count": 35,
     "metadata": {},
     "output_type": "execute_result"
    }
   ],
   "source": [
    "new"
   ]
  },
  {
   "cell_type": "code",
   "execution_count": null,
   "id": "b39e2c1b-1f68-4f81-b0d2-d9b50ddddea0",
   "metadata": {},
   "outputs": [],
   "source": []
  }
 ],
 "metadata": {
  "kernelspec": {
   "display_name": "Python [conda env:base] *",
   "language": "python",
   "name": "conda-base-py"
  },
  "language_info": {
   "codemirror_mode": {
    "name": "ipython",
    "version": 3
   },
   "file_extension": ".py",
   "mimetype": "text/x-python",
   "name": "python",
   "nbconvert_exporter": "python",
   "pygments_lexer": "ipython3",
   "version": "3.12.7"
  }
 },
 "nbformat": 4,
 "nbformat_minor": 5
}
