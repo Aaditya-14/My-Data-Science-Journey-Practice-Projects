{
 "cells": [
  {
   "cell_type": "code",
   "execution_count": 4,
   "id": "90ffb75d-d6ff-47c4-836b-745d2e486077",
   "metadata": {},
   "outputs": [],
   "source": [
    "import numpy as np\n",
    "arr=np.array([[1,2,3],[4,5,6],[7,8,9] ])"
   ]
  },
  {
   "cell_type": "code",
   "execution_count": 5,
   "id": "3f6da296-5e7e-4857-9788-3a06e3d58b6b",
   "metadata": {},
   "outputs": [
    {
     "data": {
      "text/plain": [
       "array([[1, 2, 3],\n",
       "       [4, 5, 6],\n",
       "       [7, 8, 9]])"
      ]
     },
     "execution_count": 5,
     "metadata": {},
     "output_type": "execute_result"
    }
   ],
   "source": [
    "arr"
   ]
  },
  {
   "cell_type": "code",
   "execution_count": 6,
   "id": "91e3bc29-fa80-4eb4-979b-c855f648f101",
   "metadata": {},
   "outputs": [
    {
     "data": {
      "text/plain": [
       "(3, 3)"
      ]
     },
     "execution_count": 6,
     "metadata": {},
     "output_type": "execute_result"
    }
   ],
   "source": [
    "arr.shape"
   ]
  },
  {
   "cell_type": "code",
   "execution_count": 8,
   "id": "1b377a2d-ae9c-4f9a-b157-cd0ab4261b1a",
   "metadata": {},
   "outputs": [
    {
     "data": {
      "text/plain": [
       "array([4, 5, 6])"
      ]
     },
     "execution_count": 8,
     "metadata": {},
     "output_type": "execute_result"
    }
   ],
   "source": [
    "arr[1]   #one refers to second row cuz count start from 0"
   ]
  },
  {
   "cell_type": "code",
   "execution_count": 12,
   "id": "52dc7284-0764-40f0-a99c-97214ab22f46",
   "metadata": {},
   "outputs": [
    {
     "data": {
      "text/plain": [
       "array([2, 5, 8])"
      ]
     },
     "execution_count": 12,
     "metadata": {},
     "output_type": "execute_result"
    }
   ],
   "source": [
    "arr[:,1]  # one after comma refers to f"
   ]
  },
  {
   "cell_type": "markdown",
   "id": "04b1e458-4aeb-4d53-8ac1-2aa02a66aa99",
   "metadata": {},
   "source": [
    "#[(0,0)(0,1)(0,2)\n",
    "  (1,0) (1,1) (1,2)\n",
    "   (2,0) (2,1) (2,2)] \n",
    "   "
   ]
  },
  {
   "cell_type": "code",
   "execution_count": 19,
   "id": "425f724d-4182-49ea-8483-fd7c64404f6f",
   "metadata": {},
   "outputs": [
    {
     "data": {
      "text/plain": [
       "array([[4, 5],\n",
       "       [7, 8]])"
      ]
     },
     "execution_count": 19,
     "metadata": {},
     "output_type": "execute_result"
    }
   ],
   "source": [
    "arr[1:,0:2]  #row starting from 1 and go up to last and column start from 0 and go up to 1 cuz one no be the provided number -1 is counted"
   ]
  },
  {
   "cell_type": "code",
   "execution_count": 21,
   "id": "14df1ea7-3fd5-4e45-87fc-2b895bd9b885",
   "metadata": {},
   "outputs": [],
   "source": [
    "arr1=np.array([[[1,2,3],[4,5,6],[7,8,9]] ,[[1,2,3],[4,5,6],[7,8,9]] ])"
   ]
  },
  {
   "cell_type": "code",
   "execution_count": 22,
   "id": "1adbea37-f924-4d09-8db6-0b8fe4433040",
   "metadata": {},
   "outputs": [
    {
     "data": {
      "text/plain": [
       "array([[[1, 2, 3],\n",
       "        [4, 5, 6],\n",
       "        [7, 8, 9]],\n",
       "\n",
       "       [[1, 2, 3],\n",
       "        [4, 5, 6],\n",
       "        [7, 8, 9]]])"
      ]
     },
     "execution_count": 22,
     "metadata": {},
     "output_type": "execute_result"
    }
   ],
   "source": [
    "arr1"
   ]
  },
  {
   "cell_type": "code",
   "execution_count": 25,
   "id": "c58392dd-9eb1-4e0d-b40b-7df4f263f972",
   "metadata": {},
   "outputs": [
    {
     "data": {
      "text/plain": [
       "array([[1, 2, 3],\n",
       "       [4, 5, 6],\n",
       "       [7, 8, 9]])"
      ]
     },
     "execution_count": 25,
     "metadata": {},
     "output_type": "execute_result"
    }
   ],
   "source": [
    "arr1[0] #first list is prented  due to 0"
   ]
  },
  {
   "cell_type": "code",
   "execution_count": 33,
   "id": "ba5aaaf5-f36e-4408-ac95-96ad06cd297f",
   "metadata": {},
   "outputs": [
    {
     "data": {
      "text/plain": [
       "array([[[1, 2],\n",
       "        [4, 5]],\n",
       "\n",
       "       [[1, 2],\n",
       "        [4, 5]]])"
      ]
     },
     "execution_count": 33,
     "metadata": {},
     "output_type": "execute_result"
    }
   ],
   "source": [
    "arr[:,:2,:2] # here i have done slicing of the 3d arrays "
   ]
  },
  {
   "cell_type": "code",
   "execution_count": null,
   "id": "817132a0-1398-4dd2-9f49-ac9465c7cb57",
   "metadata": {},
   "outputs": [],
   "source": []
  },
  {
   "cell_type": "code",
   "execution_count": null,
   "id": "46d58bee-f805-43ec-a315-db2d3104b19d",
   "metadata": {},
   "outputs": [],
   "source": []
  }
 ],
 "metadata": {
  "kernelspec": {
   "display_name": "Python [conda env:base] *",
   "language": "python",
   "name": "conda-base-py"
  },
  "language_info": {
   "codemirror_mode": {
    "name": "ipython",
    "version": 3
   },
   "file_extension": ".py",
   "mimetype": "text/x-python",
   "name": "python",
   "nbconvert_exporter": "python",
   "pygments_lexer": "ipython3",
   "version": "3.12.7"
  }
 },
 "nbformat": 4,
 "nbformat_minor": 5
}
