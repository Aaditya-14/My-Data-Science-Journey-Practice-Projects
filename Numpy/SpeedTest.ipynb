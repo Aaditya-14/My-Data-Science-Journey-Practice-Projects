{
 "cells": [
  {
   "cell_type": "code",
   "execution_count": 1,
   "id": "d25ac381-eb5d-4ad5-9f3a-7b8780374a3d",
   "metadata": {},
   "outputs": [],
   "source": [
    "import numpy as np "
   ]
  },
  {
   "cell_type": "code",
   "execution_count": 31,
   "id": "b4bc344a-359b-47c4-b4c7-c0e9769a7ad7",
   "metadata": {},
   "outputs": [
    {
     "name": "stdout",
     "output_type": "stream",
     "text": [
      "[(2, 4), (3, 4)]\n"
     ]
    }
   ],
   "source": [
    "n1=[2,3]\n",
    "n2=[4,4]\n",
    "\n",
    "print(list(zip(n1,n2)))"
   ]
  },
  {
   "cell_type": "code",
   "execution_count": 33,
   "id": "cc3023fb-cf44-4099-b0c6-06dbf0906a6d",
   "metadata": {},
   "outputs": [
    {
     "name": "stdout",
     "output_type": "stream",
     "text": [
      "[0, 1, 2, 3, 4]\n",
      "2.028190851211548\n"
     ]
    }
   ],
   "source": [
    "import time\n",
    "\n",
    "size=10000000\n",
    "\n",
    "l1=list(range(size))\n",
    "l2=list(range(size))\n",
    "\n",
    "start=time.time()\n",
    "l=[x+y for x,y in zip (l1,l2)]\n",
    "print(add[0:5])\n",
    "end=time.time()\n",
    "\n",
    "print(end-start)"
   ]
  },
  {
   "cell_type": "code",
   "execution_count": 34,
   "id": "099f9d24-1e48-4c24-9c4b-84e647010f1e",
   "metadata": {},
   "outputs": [
    {
     "name": "stdout",
     "output_type": "stream",
     "text": [
      "[0, 1, 2, 3, 4]\n",
      "0.6967246532440186\n"
     ]
    }
   ],
   "source": [
    "import numpy as np\n",
    "import time\n",
    "\n",
    "size=10000000\n",
    "\n",
    "l1=list(range(size))\n",
    "l2=list(range(size))\n",
    "\n",
    "start=time.time()\n",
    "add=l1+l2\n",
    "print(add[0:5])\n",
    "end=time.time()\n",
    "\n",
    "\n",
    "print(end-start)"
   ]
  },
  {
   "cell_type": "code",
   "execution_count": 35,
   "id": "3f3f4527-9bf8-4580-a317-0fafac4c82ab",
   "metadata": {},
   "outputs": [
    {
     "data": {
      "text/plain": [
       "array(['1', '2', '3', '4', '5', '5', 'dada'], dtype='<U11')"
      ]
     },
     "execution_count": 35,
     "metadata": {},
     "output_type": "execute_result"
    }
   ],
   "source": [
    "np.array([1,2,3,4,5,5,\"dada\"])"
   ]
  },
  {
   "cell_type": "code",
   "execution_count": 38,
   "id": "4531bbf4-2a3b-45f8-a3e8-216b7ee4a67c",
   "metadata": {},
   "outputs": [],
   "source": [
    "arr=np.array([[1,2,3,4,5],[6,7,8,9,10]])"
   ]
  },
  {
   "cell_type": "code",
   "execution_count": 37,
   "id": "87084cb8-3b1c-4858-b2b0-0222ebc8c9b5",
   "metadata": {},
   "outputs": [
    {
     "data": {
      "text/plain": [
       "10"
      ]
     },
     "execution_count": 37,
     "metadata": {},
     "output_type": "execute_result"
    }
   ],
   "source": [
    "type(arr)\n",
    "arr.shape\n",
    "arr.size"
   ]
  },
  {
   "cell_type": "code",
   "execution_count": 43,
   "id": "91907e09-779a-4dcf-839e-045117adfb3a",
   "metadata": {},
   "outputs": [
    {
     "name": "stdout",
     "output_type": "stream",
     "text": [
      "[1 4 9]\n"
     ]
    }
   ],
   "source": [
    "import numpy as np\n",
    "l1=[1,2,3]\n",
    "arr = np.array(l1)\n",
    "square= arr**2\n",
    "print(square)"
   ]
  },
  {
   "cell_type": "code",
   "execution_count": null,
   "id": "10f7b0ec-8451-47e3-9878-e7ac5a83769f",
   "metadata": {},
   "outputs": [],
   "source": []
  }
 ],
 "metadata": {
  "kernelspec": {
   "display_name": "Python [conda env:base] *",
   "language": "python",
   "name": "conda-base-py"
  },
  "language_info": {
   "codemirror_mode": {
    "name": "ipython",
    "version": 3
   },
   "file_extension": ".py",
   "mimetype": "text/x-python",
   "name": "python",
   "nbconvert_exporter": "python",
   "pygments_lexer": "ipython3",
   "version": "3.12.7"
  }
 },
 "nbformat": 4,
 "nbformat_minor": 5
}
