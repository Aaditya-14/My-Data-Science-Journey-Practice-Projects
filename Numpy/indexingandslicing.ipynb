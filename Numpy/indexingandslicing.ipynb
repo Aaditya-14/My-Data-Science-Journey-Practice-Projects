{
 "cells": [
  {
   "cell_type": "code",
   "execution_count": 9,
   "id": "16e4dcb3-5057-48d7-addb-6c834411d1a1",
   "metadata": {},
   "outputs": [],
   "source": [
    "import numpy as np\n",
    "arr=np.array([[1,2,3],[4,5,6],[7,8,9]])"
   ]
  },
  {
   "cell_type": "code",
   "execution_count": 10,
   "id": "aa831a6f-0273-4917-be74-367286582260",
   "metadata": {},
   "outputs": [],
   "source": [
    "ind=arr.flatten() #convert 2d array into 1d"
   ]
  },
  {
   "cell_type": "code",
   "execution_count": 11,
   "id": "294f2e04-3c3c-4698-900d-526170acc495",
   "metadata": {},
   "outputs": [
    {
     "data": {
      "text/plain": [
       "array([1, 2, 3, 4, 5, 6, 7, 8, 9])"
      ]
     },
     "execution_count": 11,
     "metadata": {},
     "output_type": "execute_result"
    }
   ],
   "source": [
    "ind"
   ]
  },
  {
   "cell_type": "code",
   "execution_count": 12,
   "id": "259cd5fb-b281-4951-9b6c-e0c47838b942",
   "metadata": {},
   "outputs": [
    {
     "data": {
      "text/plain": [
       "array([2, 3, 4, 5, 6, 7])"
      ]
     },
     "execution_count": 12,
     "metadata": {},
     "output_type": "execute_result"
    }
   ],
   "source": [
    "ind[1:7] #slice the array"
   ]
  },
  {
   "cell_type": "code",
   "execution_count": 13,
   "id": "c05f5ce5-ad0b-45af-8197-44c5da1b8868",
   "metadata": {},
   "outputs": [
    {
     "data": {
      "text/plain": [
       "array([1, 2, 3, 4])"
      ]
     },
     "execution_count": 13,
     "metadata": {},
     "output_type": "execute_result"
    }
   ],
   "source": [
    "ind[:4]"
   ]
  },
  {
   "cell_type": "code",
   "execution_count": 14,
   "id": "31cd7e9a-b306-4348-82f7-0617181610c1",
   "metadata": {},
   "outputs": [
    {
     "data": {
      "text/plain": [
       "array([3, 4, 5, 6, 7, 8, 9])"
      ]
     },
     "execution_count": 14,
     "metadata": {},
     "output_type": "execute_result"
    }
   ],
   "source": [
    "ind[2:]"
   ]
  },
  {
   "cell_type": "code",
   "execution_count": 15,
   "id": "9638ed88-30a1-444e-8dd5-47674ce7ec24",
   "metadata": {},
   "outputs": [],
   "source": [
    "#slicing provide view not copy mean to say that if you change any value in slicing then the value of real array also change"
   ]
  },
  {
   "cell_type": "code",
   "execution_count": 16,
   "id": "535cb194-730e-4609-aaaa-da63ccbdedc6",
   "metadata": {},
   "outputs": [],
   "source": [
    "b=ind[2:5]"
   ]
  },
  {
   "cell_type": "code",
   "execution_count": 17,
   "id": "7d45b68a-07fb-48c9-a799-84868c49af3f",
   "metadata": {},
   "outputs": [
    {
     "data": {
      "text/plain": [
       "array([3, 4, 5])"
      ]
     },
     "execution_count": 17,
     "metadata": {},
     "output_type": "execute_result"
    }
   ],
   "source": [
    "b"
   ]
  },
  {
   "cell_type": "code",
   "execution_count": 18,
   "id": "2847130b-448b-4f0f-a836-7927466a3429",
   "metadata": {},
   "outputs": [],
   "source": [
    "b[1]=444"
   ]
  },
  {
   "cell_type": "code",
   "execution_count": 19,
   "id": "a91cddbf-757f-49d6-b78f-610a8e178ccc",
   "metadata": {},
   "outputs": [
    {
     "data": {
      "text/plain": [
       "array([  3, 444,   5])"
      ]
     },
     "execution_count": 19,
     "metadata": {},
     "output_type": "execute_result"
    }
   ],
   "source": [
    "b"
   ]
  },
  {
   "cell_type": "code",
   "execution_count": 20,
   "id": "b883cf90-0b08-49c2-bfa0-eb6629ed0e51",
   "metadata": {},
   "outputs": [
    {
     "data": {
      "text/plain": [
       "array([  1,   2,   3, 444,   5,   6,   7,   8,   9])"
      ]
     },
     "execution_count": 20,
     "metadata": {},
     "output_type": "execute_result"
    }
   ],
   "source": [
    "ind"
   ]
  },
  {
   "cell_type": "code",
   "execution_count": 21,
   "id": "4f54ae59-f00d-4476-a85e-b9f373da9081",
   "metadata": {},
   "outputs": [],
   "source": [
    "#we have to use .copy if we want to make slicing as copy"
   ]
  },
  {
   "cell_type": "code",
   "execution_count": 32,
   "id": "8cbf7020-f772-45d9-9276-7983f6dd2809",
   "metadata": {},
   "outputs": [],
   "source": [
    "c=ind[2:6].copy()\n"
   ]
  },
  {
   "cell_type": "code",
   "execution_count": 33,
   "id": "b1f488ab-445e-4d15-b429-bfb18ce54cb0",
   "metadata": {},
   "outputs": [
    {
     "name": "stdout",
     "output_type": "stream",
     "text": [
      "[  3 444   5   6]\n"
     ]
    }
   ],
   "source": [
    "print(c)"
   ]
  },
  {
   "cell_type": "code",
   "execution_count": 34,
   "id": "b29855c3-9880-48f4-a0fb-772033ec7d3a",
   "metadata": {},
   "outputs": [],
   "source": [
    "c[1]=15"
   ]
  },
  {
   "cell_type": "code",
   "execution_count": 35,
   "id": "0e84eda3-0701-461b-be6f-45743f1a0807",
   "metadata": {},
   "outputs": [
    {
     "data": {
      "text/plain": [
       "array([ 3, 15,  5,  6])"
      ]
     },
     "execution_count": 35,
     "metadata": {},
     "output_type": "execute_result"
    }
   ],
   "source": [
    "c"
   ]
  },
  {
   "cell_type": "code",
   "execution_count": 38,
   "id": "60c20670-9653-463a-8a98-3b167a5eb303",
   "metadata": {},
   "outputs": [
    {
     "data": {
      "text/plain": [
       "array([  1,   2,   3, 444,   5,   6,   7,   8,   9])"
      ]
     },
     "execution_count": 38,
     "metadata": {},
     "output_type": "execute_result"
    }
   ],
   "source": [
    "ind  #look .copy dont change the value because it is copy"
   ]
  },
  {
   "cell_type": "code",
   "execution_count": 39,
   "id": "18b64e3a-e836-4557-9610-960a45316893",
   "metadata": {},
   "outputs": [],
   "source": [
    "#fancy indeximh and boolean masking"
   ]
  },
  {
   "cell_type": "code",
   "execution_count": 44,
   "id": "64f1a178-c443-4471-8dda-c12a3bec20ba",
   "metadata": {},
   "outputs": [],
   "source": [
    "newarr=np.array([1,2,3,4,5,6,7,8,9,10])\n"
   ]
  },
  {
   "cell_type": "code",
   "execution_count": 50,
   "id": "b656a8f1-2277-44a7-b101-83cf704d5b1c",
   "metadata": {},
   "outputs": [
    {
     "data": {
      "text/plain": [
       "array([2, 7, 9])"
      ]
     },
     "execution_count": 50,
     "metadata": {},
     "output_type": "execute_result"
    }
   ],
   "source": [
    "newarr[[1,6,8]] #this will print the index values of 2,7,and 9th position and this is call boolean masking"
   ]
  },
  {
   "cell_type": "code",
   "execution_count": 55,
   "id": "bdede0e4-74fc-4d41-985a-d3bde323336a",
   "metadata": {},
   "outputs": [],
   "source": [
    "new=newarr[newarr>2]#this is called boolean masking "
   ]
  },
  {
   "cell_type": "code",
   "execution_count": 56,
   "id": "d0528327-77ed-473d-82b7-042d7779176f",
   "metadata": {},
   "outputs": [
    {
     "data": {
      "text/plain": [
       "array([ 3,  4,  5,  6,  7,  8,  9, 10])"
      ]
     },
     "execution_count": 56,
     "metadata": {},
     "output_type": "execute_result"
    }
   ],
   "source": [
    "new"
   ]
  },
  {
   "cell_type": "code",
   "execution_count": null,
   "id": "491ce460-64b1-4351-8fe1-b2c464cd1ec5",
   "metadata": {},
   "outputs": [],
   "source": []
  }
 ],
 "metadata": {
  "kernelspec": {
   "display_name": "Python [conda env:base] *",
   "language": "python",
   "name": "conda-base-py"
  },
  "language_info": {
   "codemirror_mode": {
    "name": "ipython",
    "version": 3
   },
   "file_extension": ".py",
   "mimetype": "text/x-python",
   "name": "python",
   "nbconvert_exporter": "python",
   "pygments_lexer": "ipython3",
   "version": "3.12.7"
  }
 },
 "nbformat": 4,
 "nbformat_minor": 5
}
