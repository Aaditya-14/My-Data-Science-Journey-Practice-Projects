{
 "cells": [
  {
   "cell_type": "code",
   "execution_count": 1,
   "id": "0e496260-8a0a-4796-aac6-a0997f982319",
   "metadata": {},
   "outputs": [],
   "source": [
    "import numpy as np"
   ]
  },
  {
   "cell_type": "code",
   "execution_count": 2,
   "id": "76069dc9-5ac6-4f68-a36c-2d96aaa11a80",
   "metadata": {},
   "outputs": [],
   "source": [
    "#vectorization:\n",
    "#It allows arrays to peform operation in One step:"
   ]
  },
  {
   "cell_type": "code",
   "execution_count": 13,
   "id": "82b13423-156c-49a3-be97-2a8a78b6b3d5",
   "metadata": {},
   "outputs": [],
   "source": [
    "#without vectorization\n",
    "arr=np.array([1,2,3,4,5])\n",
    "arr1=[]\n",
    "\n",
    "for num in arr:\n",
    "    arr1.append(arr**2)\n",
    "    break\n",
    "\n",
    "\n"
   ]
  },
  {
   "cell_type": "code",
   "execution_count": 14,
   "id": "4bd875a1-d8a9-4b54-9d55-5ba1b7d18074",
   "metadata": {},
   "outputs": [
    {
     "data": {
      "text/plain": [
       "[array([ 1,  4,  9, 16, 25])]"
      ]
     },
     "execution_count": 14,
     "metadata": {},
     "output_type": "execute_result"
    }
   ],
   "source": [
    "arr1"
   ]
  },
  {
   "cell_type": "code",
   "execution_count": 16,
   "id": "5f4be3f8-a65f-4fba-adb7-7cc7cd2eb567",
   "metadata": {},
   "outputs": [
    {
     "data": {
      "text/plain": [
       "array([ 1,  4,  9, 16, 25])"
      ]
     },
     "execution_count": 16,
     "metadata": {},
     "output_type": "execute_result"
    }
   ],
   "source": [
    "#With Vectorization:\n",
    "arr=np.array([1,2,3,4,5])\n",
    "arr1=arr**2\n",
    "arr1\n",
    "#here all the number of array is bodcast to create new array by squaring each no in array \n",
    "#Bodcastion doesnt take any extra memory and it is more fast and efficient method"
   ]
  },
  {
   "cell_type": "code",
   "execution_count": 18,
   "id": "a49dda0b-36ea-4900-aafe-4eec8e06251c",
   "metadata": {},
   "outputs": [
    {
     "data": {
      "text/plain": [
       "array([[      1,       4,      27,     256,    3125],\n",
       "       [      1,     128,    6561,  262144, 9765625]])"
      ]
     },
     "execution_count": 18,
     "metadata": {},
     "output_type": "execute_result"
    }
   ],
   "source": [
    "#boardcasting in 1d and 2d array\n",
    "arr1=np.array([1,2,3,4,5])\n",
    "arr2=np.array([[1,2,3,4,5] ,[6,7,8,9,10] ])\n",
    "arr3=arr1**arr2\n",
    "arr3"
   ]
  },
  {
   "cell_type": "code",
   "execution_count": 33,
   "id": "07a4c373-e52d-4b5b-9205-cb486c8faab5",
   "metadata": {},
   "outputs": [
    {
     "data": {
      "text/plain": [
       "array([[ 0.365,  0.406,  1.039,  0.956,  0.087],\n",
       "       [-0.564,  1.084,  0.54 ,  0.239, -0.726],\n",
       "       [ 1.428,  0.135,  0.042,  0.478,  1.596],\n",
       "       [-1.229, -1.625, -1.621, -1.673, -0.958]])"
      ]
     },
     "execution_count": 33,
     "metadata": {},
     "output_type": "execute_result"
    }
   ],
   "source": [
    "# lets find normalization of data using bodcasting\n",
    "arr = np.array([\n",
    "    [72, 85, 91, 89, 77],\n",
    "    [65, 90, 88, 86, 70],\n",
    "    [80, 83, 85, 87, 90],\n",
    "    [60, 70, 75, 78, 68]\n",
    "])\n",
    "\n",
    "mean=np.mean(arr, axis=0)\n",
    "std=np.std(arr,  axis=0)\n",
    "\n",
    "Normalization=(arr-mean)/std\n",
    "np.set_printoptions(precision=3, suppress=True)  #this is use to print no of floating point and supression ensure all no is print in standard decimal form\n",
    "Normalization\n",
    "\n"
   ]
  },
  {
   "cell_type": "code",
   "execution_count": null,
   "id": "83637d5c-e684-4262-b3d2-cc607eaba38d",
   "metadata": {},
   "outputs": [],
   "source": []
  }
 ],
 "metadata": {
  "kernelspec": {
   "display_name": "Python [conda env:base] *",
   "language": "python",
   "name": "conda-base-py"
  },
  "language_info": {
   "codemirror_mode": {
    "name": "ipython",
    "version": 3
   },
   "file_extension": ".py",
   "mimetype": "text/x-python",
   "name": "python",
   "nbconvert_exporter": "python",
   "pygments_lexer": "ipython3",
   "version": "3.12.7"
  }
 },
 "nbformat": 4,
 "nbformat_minor": 5
}
